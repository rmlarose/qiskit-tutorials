{
 "cells": [
  {
   "cell_type": "markdown",
   "metadata": {},
   "source": [
    "# Quantum singular value estimation"
   ]
  },
  {
   "cell_type": "markdown",
   "metadata": {},
   "source": [
    "Ryan LaRose"
   ]
  },
  {
   "cell_type": "markdown",
   "metadata": {},
   "source": [
    "### Abstract"
   ]
  },
  {
   "cell_type": "markdown",
   "metadata": {},
   "source": [
    "Singular value decomposition is a powerful linear algebra technique. A quantum algorithm for estimating singular values, called quantum singular value estimation (QSVE), was presented in [1] for the purpose of recommendation systems. Later, it was shown how QSVE could be used as a subroutine for solving linear systems of equations [2]. In this notebook, we demonstrate how to use the Qiskit Aqua implementation of QSVE and explain how the algorithm works. In other notebooks, we present the applications to recommendation systems and linear systems in Qiskit Aqua."
   ]
  },
  {
   "cell_type": "code",
   "execution_count": null,
   "metadata": {},
   "outputs": [],
   "source": [
    "\"\"\"Imports for the notebook.\"\"\"\n",
    "import matplotlib.pyplot as plt\n",
    "import numpy as np\n",
    "from scipy import sparse\n",
    "\n",
    "import qiskit\n",
    "from qiskit.aqua.components.qsve import QSVE, BinaryTree\n",
    "from qiskit.aqua.utils import random_hermitian"
   ]
  },
  {
   "cell_type": "markdown",
   "metadata": {},
   "source": [
    "# Introduction"
   ]
  },
  {
   "cell_type": "markdown",
   "metadata": {},
   "source": [
    "Although not all matrices can be diagonalized, every matrix has a singular value decomposition. If $A$ is an $m \\times n$ matrix with complex entries, we can write\n",
    "\n",
    "\\begin{equation}\n",
    "    A = U \\Sigma V^\\dagger \n",
    "\\end{equation}\n",
    "\n",
    "where $U \\in \\mathbb{C}^{m \\times m}$ is unitary, $\\Sigma \\in \\mathbb{R}^{m \\times n}$ has non-negative diagonal components, and $V \\in \\mathbb{C}^{n \\times n}$ is unitary. This can equivalently be written\n",
    "\n",
    "\\begin{equation}\n",
    "    A = \\sum_i \\sigma_i \\mathbf{u}_i \\mathbf{v}_i^\\dagger\n",
    "\\end{equation}\n",
    "\n",
    "where $\\sigma_i \\ge 0$ are the diagonal elements (called _singular values_) of $\\Sigma$, and $\\mathbf{u}_i$ ($\\mathbf{v}_i$) is the $i$th column vector (called _singular vectors_) of $U$ ($V$)."
   ]
  },
  {
   "cell_type": "markdown",
   "metadata": {},
   "source": [
    "# Examples and usage"
   ]
  },
  {
   "cell_type": "markdown",
   "metadata": {},
   "source": [
    "In this section, we present examples of how to use QSVE in Qiskit Aqua. We assume the input matrix is Hermitian without loss of generality. If this is not the case, the user is responsible for embedding the matrix into a Hermitian system, for example via the transformation\n",
    "\n",
    "\\begin{equation}\n",
    "    A \\longmapsto \\left[ \\begin{matrix}\n",
    "                0 & A \\\\\n",
    "                A^\\dagger & 0 \\\\\n",
    "                \\end{matrix} \\right] .\n",
    "\\end{equation}\n",
    "\n",
    "For the simple examples in this notebook, we ensure Hermiticity by generating a matrix $A$ then transforming via $A \\longmapsto A + A^\\dagger$ if necessary."
   ]
  },
  {
   "cell_type": "markdown",
   "metadata": {},
   "source": [
    "### Example 1: Identity Matrix"
   ]
  },
  {
   "cell_type": "markdown",
   "metadata": {},
   "source": [
    "Here we consider the simple case of estimating singular values of the identity matrix $I = \\text{diag}(1, 1)$. This example is particularly suitable for QSVE because the matrix can be written\n",
    "\n",
    "\\begin{equation}\n",
    "    I = \\sqrt{2} \\left[ \\begin{matrix}\n",
    "                \\cos(0.25 * \\pi) & 0 \\\\\n",
    "                0 & \\sin(0.25 * \\pi) \\\\\n",
    "                \\end{matrix} \\right]\n",
    "\\end{equation}\n",
    "\n",
    "The angles $\\theta = 0.25$ can be represented exactly as a binary fraction with a few qubits, so the QSVE algorithm is able to compute the singular values exactly. Note that we assume the singular values have been normalized by the Froebenius norm of the matrix. That is, we use QSVE to estimate $\\sigma_j / ||A||_F$. "
   ]
  },
  {
   "cell_type": "code",
   "execution_count": null,
   "metadata": {},
   "outputs": [],
   "source": [
    "\"\"\"Example of computing the singular values of the identity matrix.\"\"\"\n",
    "# Define the matrix of the system\n",
    "matrix = np.identity(2)\n",
    "\n",
    "# Get a QSVE instance\n",
    "qsve = QSVE(matrix)\n",
    "\n",
    "# Estimate and return the top singular values\n",
    "qsigmas = qsve.top_singular_values()\n",
    "\n",
    "# Compute the singular values classically for comparison\n",
    "sigmas = qsve.singular_values_classical()\n",
    "\n",
    "# Display the singular values\n",
    "print(\"The singular values from QSVE are:\", qsigmas)\n",
    "print(\"The singular values from classical SVD are:\", sigmas)"
   ]
  },
  {
   "cell_type": "markdown",
   "metadata": {},
   "source": [
    "Here we see that the estimated singular values from QSVE are exactly the classically computed singular values, which are $1 / \\sqrt{2}$ in closed form. \n",
    "\n",
    "Below, we can construct the circuit for QSVE and display the raw bitstring measurement outcomes."
   ]
  },
  {
   "cell_type": "code",
   "execution_count": null,
   "metadata": {
    "scrolled": true
   },
   "outputs": [],
   "source": [
    "\"\"\"Looking at the circuit and measurement outcomes of QSVE.\"\"\"\n",
    "# Create the circuit and run it to get the measurement outcomes\n",
    "circuit = qsve.create_circuit(nprecision_bits=1, logical_barriers=True)\n",
    "counts = qsve.run_and_return_counts()\n",
    "\n",
    "# Display the circuit\n",
    "print(circuit)\n",
    "print(\"\\nCounts =\", counts)"
   ]
  },
  {
   "cell_type": "markdown",
   "metadata": {},
   "source": [
    "We'll understand what the circuit is doing later in the notebook. For now, we explain how to convert from bitstrings to estimates of the singular values. (This is done automatically in the method `QSVE.top_singular_values` shown above.)"
   ]
  },
  {
   "cell_type": "code",
   "execution_count": null,
   "metadata": {
    "scrolled": true
   },
   "outputs": [],
   "source": [
    "\"\"\"Converting bit strings to angles and singular values.\"\"\"\n",
    "# Measured bit strings from the above example\n",
    "bitstring1 = \"011\"\n",
    "bitstring2 = \"010\"\n",
    "\n",
    "print(\"Measured bitstrings:\")\n",
    "print(\"bitstring1 =\", bitstring1)\n",
    "print(\"bitstring2 =\", bitstring2)\n",
    "\n",
    "# Convert these measured strings to floating point values\n",
    "float1 = qsve.binary_decimal_to_float(bitstring1)\n",
    "float2 = qsve.binary_decimal_to_float(bitstring2)\n",
    "\n",
    "# Put the floating point angles in the interval [-1/2, 1/2]\n",
    "theta1 = qsve.convert_measured(float1)\n",
    "theta2 = qsve.convert_measured(float2)\n",
    "\n",
    "print(\"\\nBitstrings converted to angles in [-1/2, 1/2]:\")\n",
    "print(\"theta1 =\", theta1)\n",
    "print(\"theta2 =\", theta2)\n",
    "\n",
    "# Convert the angles to singular values\n",
    "qsigma1 = qsve.angle_to_singular_value(theta1)\n",
    "qsigma2 = qsve.angle_to_singular_value(theta2)\n",
    "\n",
    "print(\"\\nSingular values found via QSVE:\")\n",
    "print(\"qsigma1 = \", qsigma1)\n",
    "print(\"qsigma2 = \", qsigma2)"
   ]
  },
  {
   "cell_type": "markdown",
   "metadata": {},
   "source": [
    "Since the measured bit strings of this unitary can be exactly expressed with three bits, we should not see any change as we go to $n > 3$ qubits for QPE. This is shown in the following cell."
   ]
  },
  {
   "cell_type": "code",
   "execution_count": null,
   "metadata": {
    "scrolled": true
   },
   "outputs": [],
   "source": [
    "\"\"\"Increasing the number of QPE qubits and checking the bit strings.\"\"\"\n",
    "for n in range(3, 7):\n",
    "    counts = qsve.run_and_return_counts(nprecision_bits=n)\n",
    "    print(\"Number of qubits = {}, counts = {}\".format(n, counts))"
   ]
  },
  {
   "cell_type": "markdown",
   "metadata": {},
   "source": [
    "As can be seen, the bit strings do not change with more QPE qubits.\n",
    "\n",
    "__Note__: The bit strings are \"little endian,\" which means that the most significant bit is the last in the bit string."
   ]
  },
  {
   "cell_type": "markdown",
   "metadata": {},
   "source": [
    "### Example 2: Convergence towards singular values"
   ]
  },
  {
   "cell_type": "markdown",
   "metadata": {},
   "source": [
    "In this example, we show how increasing the number of qubits used in QPE increases the accuracy of the singular value estimates. We first create a random two by two matrix, then use QSVE to estimate the top eigenvalue."
   ]
  },
  {
   "cell_type": "code",
   "execution_count": null,
   "metadata": {
    "scrolled": true
   },
   "outputs": [],
   "source": [
    "\"\"\"Example of convergence toward singular values.\"\"\"\n",
    "# Get a random matrix (seed for reproducibility)\n",
    "np.random.seed(402457087)\n",
    "matrix = np.random.randn(2, 2)\n",
    "matrix += matrix.conj().T\n",
    "\n",
    "# matrix = random_hermitian(2, eigs=[0.4, 0.2])\n",
    "\n",
    "# Get a QSVE instance and compute the singular values classically\n",
    "qsve = QSVE(matrix)\n",
    "sigmas = qsve.singular_values_classical()\n",
    "\n",
    "print(\"Classical singular values:\", np.round(sigmas, 5))\n",
    "print(\"============================================\")\n",
    "\n",
    "nqubits = list(range(1, 7 + 1))\n",
    "qsigmas = []\n",
    "errors = []\n",
    "theoretical_errors = []\n",
    "\n",
    "for n in nqubits:\n",
    "    print(\"Status: n =\", n)\n",
    "    qsigmas += qsve.top_singular_values(nprecision_bits=n, ntop=1)\n",
    "    errors.append(abs(qsigmas[-1] - sigmas[0]))\n",
    "    theoretical_errors.append(qsve.max_error(n))\n",
    "    print(\"Current estimate:\", np.round(qsigmas[-1], 5))"
   ]
  },
  {
   "cell_type": "markdown",
   "metadata": {},
   "source": [
    "The status messeges above show convergence to the singular value, which we can plot below. We also show the error in estimating the singular value."
   ]
  },
  {
   "cell_type": "code",
   "execution_count": null,
   "metadata": {},
   "outputs": [],
   "source": [
    "\"\"\"Plot the convergence to the singular value in the number of qubits for QPE.\"\"\"\n",
    "# Figure out which singular value was more prominent in the measurement statistics\n",
    "ind = int(not np.isclose(qsigmas[-1], sigmas[0], atol=1e-2))\n",
    "\n",
    "plt.rcParams.update({\"font.size\": 16, \"font.family\": \"serif\", \"font.weight\": \"bold\"})\n",
    "\n",
    "fig = plt.figure(figsize=(16, 6))\n",
    "ax1 = fig.add_subplot(121)\n",
    "ax2 = fig.add_subplot(122)\n",
    "\n",
    "ax1.plot(nqubits, sigmas[ind] * np.ones(len(nqubits)), \"-\", linewidth=4, label=\"Analytic\");\n",
    "ax1.plot(nqubits, qsigmas, \"--o\", linewidth=4, markersize=12, label=\"QSVE\");\n",
    "ax1.set_xlabel(\"Number of qubits in QPE\");\n",
    "ax1.set_ylabel(\"Normalized singular value\");\n",
    "ax1.set_title(\"Convergence towards singular value\");\n",
    "ax1.grid();\n",
    "ax1.legend();\n",
    "\n",
    "ax2.plot(nqubits, theoretical_errors, \"-\", linewidth=4, label=\"Max theoretical error\");\n",
    "ax2.plot(nqubits, errors, \"--o\", linewidth=4, markersize=12, label=\"Numerical error\");\n",
    "ax2.set_xlabel(\"Number of qubits in QPE\");\n",
    "ax2.set_ylabel(\"Error\");\n",
    "ax2.set_title(\"Error convergence towards zero\");\n",
    "ax2.grid();\n",
    "ax2.legend();"
   ]
  },
  {
   "cell_type": "markdown",
   "metadata": {},
   "source": [
    "__Note__: The error plot assumes the top singular value is the largest one (i.e., the first in `sigmas`), which may not always be the case. If you change the matrix and the error does not seem to be going to zero, this is the reason. Simply change the `sigmas[0]` to `sigmas[1]` where the errors are computed to fix this."
   ]
  },
  {
   "cell_type": "markdown",
   "metadata": {},
   "source": [
    "Note that the simulation time quickly increases in the number of QPE qubits. For this example, going beyond seven qubits requires a longer time to execute, but with eight qubits the singular value estimate is accurate to five digits."
   ]
  },
  {
   "cell_type": "markdown",
   "metadata": {},
   "source": [
    "### Example 3: A larger matrix"
   ]
  },
  {
   "cell_type": "markdown",
   "metadata": {},
   "source": [
    "Here we implement QSVE on an eight by eight sparse matrix. Below, we will see that the number of gates in the algorithm scales with the number of nonzero matrix elements, so we consider a sparse matrix here for efficiency."
   ]
  },
  {
   "cell_type": "code",
   "execution_count": null,
   "metadata": {
    "scrolled": true
   },
   "outputs": [],
   "source": [
    "\"\"\"Example: QSVE on a random sparse matrix.\"\"\"\n",
    "# Get a matrix and display it\n",
    "sp = sparse.random(4, 4, density=0.3)\n",
    "matrix = sp.toarray()\n",
    "matrix += matrix.conj().T\n",
    "print(\"Matrix:\",\"=======\", np.round(matrix, 3), sep=\"\\n\")\n",
    "\n",
    "# Do the classical SVD and quantum SVE\n",
    "qsve = QSVE(matrix)\n",
    "sigmas = qsve.singular_values_classical()\n",
    "print(\"\\nClassically found singular values:\", np.round(sigmas, 5))\n",
    "qsigmas = qsve.top_singular_values(nprecision_bits=5, ntop=4)\n",
    "print(\"\\nQuantum singular value estimates:\", np.round(qsigmas, 5))"
   ]
  },
  {
   "cell_type": "markdown",
   "metadata": {},
   "source": [
    "You should see that the quantum singular value estimates are close to one (or more) of the exact singular values. In particular, we can compute the maximum error of the singular value for a given number of precision qubits."
   ]
  },
  {
   "cell_type": "code",
   "execution_count": null,
   "metadata": {},
   "outputs": [],
   "source": [
    "\"\"\"Print out the maximum erro rfor a given number of precision bits.\"\"\"\n",
    "print(\"Max error:\", qsve.max_error(5))"
   ]
  },
  {
   "cell_type": "markdown",
   "metadata": {},
   "source": [
    "You should notice the top singular value estimate is within this error from an exact singular value.\n",
    "\n",
    "You may also notice this example took a bit longer to run. We can understand why by inspecting the circuit below."
   ]
  },
  {
   "cell_type": "code",
   "execution_count": null,
   "metadata": {},
   "outputs": [],
   "source": [
    "\"\"\"Example: Checking the number of gates in the circuit.\"\"\"\n",
    "circuit = qsve.create_circuit(nprecision_bits=5)\n",
    "native = circuit.decompose()\n",
    "print(native.count_ops())"
   ]
  },
  {
   "cell_type": "markdown",
   "metadata": {},
   "source": [
    "This circuit has on the order of 10,000 CNOT gates and a comparable number of single qubit gates. These numbers quickly reach the capabilities of the simulators, and are far beyond the state of current quantum computers. QSVE is thus an algorithm for fault-tolerant quantum computers."
   ]
  },
  {
   "cell_type": "markdown",
   "metadata": {},
   "source": [
    "# How the algorithm works"
   ]
  },
  {
   "cell_type": "markdown",
   "metadata": {},
   "source": [
    "The QSVE algorithm uses quantum phase estimation (QPE) on a particular unitary $W$, the eigenvalues of which are related to the singular values of the given matrix $A$. (Recall that QPE estimates eigenvalues of a unitary matrix.)\n",
    "\n",
    "## Defining the unitary for QPE\n",
    "\n",
    "To be concrete, let $A \\in \\mathbb{R}^{n \\times n}$ be Hermitian with Froebenius norm $||A||_F$. To build up the unitary $W \\in \\mathbb{R}^{n^2 \\times n^2}$, we define the isometry $M \\in \\mathbb{R}^{n^2 \\times n}$ by\n",
    "\n",
    "\\begin{equation}\n",
    "    M |i\\rangle := \\frac{1}{||\\text{row}_i(A)||} |i\\rangle \\otimes |\\text{row}_i(A)\\rangle .\n",
    "\\end{equation}\n",
    "\n",
    "In words, the $i$th column of $i$ (for $i = 1, ..., n$) is the $n^2$-dimensional vector $|i\\rangle \\otimes |\\text{row}_i(A)\\rangle$. We similarly define the isometry $N \\in \\mathbb{R}^{n \\times n^2}$ as\n",
    "\n",
    "\\begin{equation}\n",
    "    N |j\\rangle := | \\tilde{A} \\rangle \\otimes |j\\rangle \\\n",
    "\\end{equation}\n",
    "\n",
    "where $|\\tilde{A}\\rangle$ is the vector of row norms of $A$, namely $|\\tilde{A} \\rangle = [ ||\\text{row}_1(A) ||_2^2, ..., ||\\text{row}_n(A) ||_2^2]^T$. \n",
    "\n",
    "The unitary $W$ is then defined as\n",
    "\n",
    "\\begin{equation}\n",
    "    W := (2 MM^\\dagger - I)(2N N^\\dagger - I)\n",
    "\\end{equation}\n",
    "\n",
    "Note that $I$ denotes the identity operator and both terms in parentheses are reflection operators. \n",
    "\n",
    "It can be shown that the eigenvalues of $W$ are related to the singular values of $A$ [1]. In particular, suppose $e^{i \\pi \\theta_j}$ is an eigenvalue of $W$ where $\\theta_j \\in [-1, 1]$. Then, \n",
    "\n",
    "\\begin{equation}\n",
    "    \\cos \\pi \\theta_j = \\frac{\\sigma_j}{||A||_F}\n",
    "\\end{equation}\n",
    "\n",
    "Using QPE to compute the bit strings $\\theta_j$ thus allows us to estimate the singular values of the desired matrix $A$. \n",
    "\n",
    "## Building the unitary in a quantum circuit"
   ]
  },
  {
   "cell_type": "markdown",
   "metadata": {},
   "source": [
    "The key subroutine of QSVE is loading a vector onto a quantum state. This is known to be inefficient in general, which is why we require the matrix to be sparse. The `BinaryTree` data structure presented in [1] is a useful construction for loading a vector onto a quantum state."
   ]
  },
  {
   "cell_type": "markdown",
   "metadata": {},
   "source": [
    "### Loading a real vector onto a quantum state using a BinaryTree"
   ]
  },
  {
   "cell_type": "markdown",
   "metadata": {},
   "source": [
    "Here we define a matrix and make a `BinaryTree` from its first row."
   ]
  },
  {
   "cell_type": "code",
   "execution_count": null,
   "metadata": {},
   "outputs": [],
   "source": [
    "\"\"\"Example of using a BinaryTree to load amplitudes onto a quantum state.\"\"\"\n",
    "# Define a matrix\n",
    "matrix = np.array([[0.6, 0.8],\n",
    "                   [0.8, 0.6]])\n",
    "\n",
    "# Get the first row vector of the matrix\n",
    "row = matrix[0]\n",
    "\n",
    "# Make a BinaryTree out of the row vector and display it\n",
    "tree = BinaryTree(row)\n",
    "print(tree)"
   ]
  },
  {
   "cell_type": "markdown",
   "metadata": {},
   "source": [
    "The leaves of the tree store the squared vector elements. The parent value store the sum of these. We can use these to determine angles of rotation in `Ry` gates in order to load a quantum state proportional to this vector, as shown below."
   ]
  },
  {
   "cell_type": "code",
   "execution_count": null,
   "metadata": {
    "scrolled": true
   },
   "outputs": [],
   "source": [
    "\"\"\"Continued: Example of using a BinaryTree to load amplitudes onto a quantum state.\"\"\"\n",
    "# Define a quantum register and quantum circuit\n",
    "qreg = qiskit.QuantumRegister(1)\n",
    "circ = qiskit.QuantumCircuit(qreg)\n",
    "\n",
    "tree.preparation_circuit(circ, qreg)\n",
    "print(circ)"
   ]
  },
  {
   "cell_type": "markdown",
   "metadata": {},
   "source": [
    "We can check this rotation indeed prepares the desired vector `[0.6, 0.8]`, as shown below."
   ]
  },
  {
   "cell_type": "code",
   "execution_count": null,
   "metadata": {},
   "outputs": [],
   "source": [
    "\"\"\"Continued: Example of using a BinaryTree to load amplitudes onto a quantum state.\"\"\"\n",
    "# Make sure the final state of the circuit is the initial vector (normalized)\n",
    "simulator = qiskit.BasicAer.get_backend(\"unitary_simulator\")\n",
    "job = qiskit.execute(circ, simulator)\n",
    "\n",
    "unitary = np.array(job.result().results[0].data.unitary)\n",
    "state = np.real(unitary[:, 0])\n",
    "\n",
    "print(f\"Prepared state: {state}\")"
   ]
  },
  {
   "cell_type": "markdown",
   "metadata": {},
   "source": [
    "The `BinaryTree` works for loading a vector of any size (granted its a power of two) with positive or negative components, but they must be real valued. The number of gates scales with the number of non-zero vector components. An example of loading a four element vector onto two qubits is shown below."
   ]
  },
  {
   "cell_type": "code",
   "execution_count": null,
   "metadata": {
    "scrolled": true
   },
   "outputs": [],
   "source": [
    "\"\"\"Example of loading a vector of four elements using a BinaryTree.\"\"\"\n",
    "vector = np.random.randn(4)\n",
    "tree = BinaryTree(vector)\n",
    "\n",
    "qreg = qiskit.QuantumRegister(2)\n",
    "circ = qiskit.QuantumCircuit(qreg)\n",
    "tree.preparation_circuit(circ, qreg)\n",
    "\n",
    "print(circ)"
   ]
  },
  {
   "cell_type": "markdown",
   "metadata": {},
   "source": [
    "One can verify, as above, this indeed prepares the correct quantum state."
   ]
  },
  {
   "cell_type": "markdown",
   "metadata": {},
   "source": [
    "### Loading the rows and row norms of the matrix"
   ]
  },
  {
   "cell_type": "markdown",
   "metadata": {},
   "source": [
    "When a matrix is input to a `QSVE` object, `BinaryTree`s are stored for each row of the matrix, and an additional `BinaryTree` is stored for a vector of all L2 row norms. This is shown in the cell below, using the same matrix as above."
   ]
  },
  {
   "cell_type": "code",
   "execution_count": null,
   "metadata": {
    "scrolled": true
   },
   "outputs": [],
   "source": [
    "\"\"\"QSVE objects store BinaryTrees for each row of the matrix, and the row norms of the matrix.\"\"\"\n",
    "matrix = np.array([[0.6, 0.8],\n",
    "                   [0.8, 0.6]])\n",
    "qsve = QSVE(matrix)\n",
    "\n",
    "print(\"Tree for the first row:\")\n",
    "print(qsve.get_tree(0))\n",
    "\n",
    "print(\"Tree for the second row:\")\n",
    "print(qsve.get_tree(1))\n",
    "\n",
    "print(\"Tree for the row norms:\")\n",
    "print(qsve.row_norm_tree)"
   ]
  },
  {
   "cell_type": "markdown",
   "metadata": {},
   "source": [
    "These `BinaryTree`s are used to implement the $M$ and $N$ isometries defined above. Specifically, the reflections $I - 2M M^\\dagger$ and $I - 2N N^\\dagger$ are implemented. The product of these is the unitary `W`. Since the unitary needs to be controlled on the qubit in the precision register for QPE, an optional argument allows the state preparation circuit to be controlled on an additional register."
   ]
  },
  {
   "cell_type": "code",
   "execution_count": null,
   "metadata": {
    "scrolled": true
   },
   "outputs": [],
   "source": [
    "\"\"\"Explanation of how the controlled-W unitary is implemented in the QSVE algorithm.\"\"\"\n",
    "# Get registers and a circuit\n",
    "qpe_register = qiskit.QuantumRegister(1, name=\"qpe\")\n",
    "row_register = qiskit.QuantumRegister(1, name=\"row\")\n",
    "col_register = qiskit.QuantumRegister(1, name=\"col\")\n",
    "circ = qiskit.QuantumCircuit(qpe_register, row_register, col_register)\n",
    "\n",
    "# Do the controlled row norm isometry. That is, the reflection I - 2 M M^\\dagger\n",
    "qsve.controlled_row_norm_reflection(circ, qpe_register[0], row_register)\n",
    "circ.barrier()\n",
    "\n",
    "# Do the controlled row isometry. That is, the reflection I - 2 N N^\\dagger\n",
    "qsve.controlled_row_reflection(circ, qpe_register[0], row_register, col_register)\n",
    "circ.barrier()\n",
    "\n",
    "print(circ)"
   ]
  },
  {
   "cell_type": "markdown",
   "metadata": {},
   "source": [
    "This circuit should look similar to the one above for the identity matrix (but not exact). The full QPE circuit can be constructed as shown below:"
   ]
  },
  {
   "cell_type": "code",
   "execution_count": null,
   "metadata": {
    "scrolled": true
   },
   "outputs": [],
   "source": [
    "\"\"\"Do QPE with the unitary W.\"\"\"\n",
    "print(\"Matrix:\\n\", qsve.matrix)\n",
    "\n",
    "print(\"\\nQPE Circuit:\\n\\n\", qsve.create_circuit(nprecision_bits=1))"
   ]
  },
  {
   "cell_type": "markdown",
   "metadata": {},
   "source": [
    "Increasing the number of precision qubits in QPE tacks on additional controlled-$W$ circuits."
   ]
  },
  {
   "cell_type": "markdown",
   "metadata": {},
   "source": [
    "# More examples and advanced usage"
   ]
  },
  {
   "cell_type": "markdown",
   "metadata": {},
   "source": [
    "### Example 4: Starting in a specified state"
   ]
  },
  {
   "cell_type": "markdown",
   "metadata": {},
   "source": [
    "The `QSVE.top_singular_values` method allows one to start in a specified state, as shown below. The user passes a vector (normalized or un-normalized) into the `singular_vector` keyword argument."
   ]
  },
  {
   "cell_type": "code",
   "execution_count": null,
   "metadata": {
    "scrolled": true
   },
   "outputs": [],
   "source": [
    "\"\"\"Example: Starting in a different state to estimate different singular values.\"\"\"\n",
    "matrix = np.random.randn(2, 2)\n",
    "matrix += matrix.conj().T\n",
    "qsve = QSVE(matrix)\n",
    "\n",
    "classical = qsve.singular_values_classical()\n",
    "print(\"Classically found singular values:\", np.round(classical, 4))\n",
    "top_from_zero = qsve.top_singular_values(nprecision_bits=7, ntop=4, singular_vector=None)\n",
    "print(\"Top singular values starting from |0>:\", np.round(top_from_zero, 4))\n",
    "top_from_one = qsve.top_singular_values(nprecision_bits=7, ntop=4, singular_vector=[0, 1, 0, 0])\n",
    "print(\"Top singular values starting from |1>:\", np.round(top_from_one, 4))"
   ]
  },
  {
   "cell_type": "markdown",
   "metadata": {},
   "source": [
    "You should see that different `singular_vector`s result in estimating different singular values with higher probability. (Recall: The top singular vectors returned from `QSVE.top_singular_values` are ordered by most probable to least probable.)"
   ]
  },
  {
   "cell_type": "markdown",
   "metadata": {},
   "source": [
    "### Example 5: \"Large\" and sparse matrices"
   ]
  },
  {
   "cell_type": "code",
   "execution_count": null,
   "metadata": {},
   "outputs": [],
   "source": []
  },
  {
   "cell_type": "markdown",
   "metadata": {},
   "source": [
    "# Further Reading"
   ]
  },
  {
   "cell_type": "markdown",
   "metadata": {},
   "source": [
    "TODO: Link to linear systems using QSVE and recommendation systems notebooks."
   ]
  },
  {
   "cell_type": "markdown",
   "metadata": {},
   "source": [
    "# References and notes"
   ]
  },
  {
   "cell_type": "markdown",
   "metadata": {},
   "source": [
    "[1] Recommendation systems\n",
    "\n",
    "[2] Linear systems QSVE\n",
    "\n",
    "[3] There are $n^2$ eigenvalues of $W$, but there are only $n$ singular values of $A$. By symmetry of cosine about zero, exactly $2n$ eigenvalues of $W$ correspond to singular values of $A$. This means that there are $n^2 - 2n$ eigenvalues of $W$ _not_ related to singular values of $A$. What are these other eigenvalues? It can be easily seen that they are all one. While this does not affect the correctness of QSVE, it skews the measurement outcomes to contain a lot of all zero outcomes. This may be undesirable for large matrices. For the small examples we consider, however, this is not an issue."
   ]
  }
 ],
 "metadata": {
  "kernelspec": {
   "display_name": "aqua_dev",
   "language": "python",
   "name": "aqua_dev"
  },
  "language_info": {
   "codemirror_mode": {
    "name": "ipython",
    "version": 3
   },
   "file_extension": ".py",
   "mimetype": "text/x-python",
   "name": "python",
   "nbconvert_exporter": "python",
   "pygments_lexer": "ipython3",
   "version": "3.6.8"
  }
 },
 "nbformat": 4,
 "nbformat_minor": 2
}
