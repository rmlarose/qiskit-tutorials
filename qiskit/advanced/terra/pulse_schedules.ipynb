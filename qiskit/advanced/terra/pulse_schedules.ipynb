{
 "cells": [
  {
   "cell_type": "markdown",
   "metadata": {},
   "source": [
    "<img src=\"../../../images/qiskit_header.png\" alt=\"Note: In order for images to show up in this jupyter notebook you need to select File => Trusted Notebook\" align=\"middle\">"
   ]
  },
  {
   "cell_type": "markdown",
   "metadata": {},
   "source": [
    "# Pulse Schedules\n",
    "\n",
    "The `pulse` module allows quantum experiments to be described at the level of pulses. For IBMQ devices these are microwave pulses applied to our superconducting qubits. \n",
    "\n",
    "The pulse `Schedule`, `Instruction`, `Command` and `Channel` are the main objects of the pulse module. \n",
    "\n",
    "\n",
    "\n",
    "All instances of these objects are **immutable**, which results in:\n",
    "- An API that is easier to reason about\n",
    "- Objects that may be reused many times as components of parent objects without the problem of underlying children object's guarantees changing"
   ]
  },
  {
   "cell_type": "code",
   "execution_count": 1,
   "metadata": {},
   "outputs": [],
   "source": [
    "%matplotlib inline"
   ]
  },
  {
   "cell_type": "code",
   "execution_count": 63,
   "metadata": {},
   "outputs": [],
   "source": [
    "import numpy as np\n",
    "from qiskit.pulse.channels import (DriveChannel, MeasureChannel, ControlChannel, \n",
    "                                   AcquireChannel, MemorySlot, SnapshotChannel)\n",
    "from qiskit.pulse.commands import (SamplePulse, FrameChange, PersistentValue,\n",
    "                                   Acquire, Snapshot)\n",
    "from qiskit.pulse import pulse_lib, Schedule"
   ]
  },
  {
   "cell_type": "markdown",
   "metadata": {},
   "source": [
    "# Channels\n",
    "\n",
    "`Channel`s correspond to physical channels on the backend. `Channel`s are combined with `Command`s to form an `Instruction`.\n",
    "\n",
    "As all channels correspond to physical channels on a device, they have an `index` which specifies their corresponding device channel and a `buffer`, which is the buffering delay in units `dt/dtm` that must be added between commands on the same channel when `appending`.\n",
    "\n",
    "The fundamental channel types are: \n",
    "- `DriveChannel`: Qubit drive channel. The index channel corresponds to the system qubit index.\n",
    "- `MeasureChannel`: Qubit stimulus channel. The channel index corresponds to the system qubit index.\n",
    "- `ControlChannel`: Arbitrary control channel with action specified by Hamiltonian provided by device. The function of this channel must be extracted from the system Hamiltonian.\n",
    "- `AcquireChannel`: Qubit acquisition channel. The channel index corresponds to the system qubit index.\n",
    "- `MemorySlot`: Channel for storage of qubit results for measurement levels 0,1 and 2. The output of an `Acquire` of any qubit may be stored in any `MemorySlot`.\n",
    "- `RegisterSlot`: Channel for storage of qubit results for use with conditional commands. The output of an `Acquire` may be mapped to corresponding `RegisterSlot` with indexes specified by the `backend` configurations `register_map`.\n",
    "- `Snapshot`: Channel for snapshots (for use with simulators only).\n",
    "\n",
    "Channels may be declared using the following:"
   ]
  },
  {
   "cell_type": "code",
   "execution_count": 3,
   "metadata": {},
   "outputs": [],
   "source": [
    "drive_ch0 = DriveChannel(0, buffer=2)\n",
    "meas_ch0 = MeasureChannel(0, buffer=2)\n",
    "control_ch0 = ControlChannel(0, buffer=2)\n",
    "acquire_ch0 = AcquireChannel(0, buffer=0)\n",
    "memory_slot0 = MemorySlot(0)\n",
    "\n",
    "drive_ch1 = DriveChannel(1, buffer=2)\n",
    "meas_ch1 = MeasureChannel(1, buffer=2)\n",
    "control_ch1 = ControlChannel(1, buffer=2)\n",
    "acquire_ch1 = AcquireChannel(1, buffer=0)\n",
    "memory_slot1 = MemorySlot(1)"
   ]
  },
  {
   "cell_type": "markdown",
   "metadata": {},
   "source": [
    "The buffer parameter is optional and both index and buffer may be accessed."
   ]
  },
  {
   "cell_type": "code",
   "execution_count": 4,
   "metadata": {},
   "outputs": [
    {
     "name": "stdout",
     "output_type": "stream",
     "text": [
      "0\n",
      "2\n"
     ]
    }
   ],
   "source": [
    "print(drive_ch0.index)\n",
    "print(drive_ch0.buffer)"
   ]
  },
  {
   "cell_type": "markdown",
   "metadata": {},
   "source": [
    "Channels can be checked for equivalency. This check is based on the channel index as every channel corresponds to a unique device channel."
   ]
  },
  {
   "cell_type": "code",
   "execution_count": 5,
   "metadata": {},
   "outputs": [
    {
     "data": {
      "text/plain": [
       "True"
      ]
     },
     "execution_count": 5,
     "metadata": {},
     "output_type": "execute_result"
    }
   ],
   "source": [
    "drive_ch0 == drive_ch0"
   ]
  },
  {
   "cell_type": "code",
   "execution_count": 6,
   "metadata": {},
   "outputs": [
    {
     "data": {
      "text/plain": [
       "True"
      ]
     },
     "execution_count": 6,
     "metadata": {},
     "output_type": "execute_result"
    }
   ],
   "source": [
    "drive_ch0 == DriveChannel(0)"
   ]
  },
  {
   "cell_type": "code",
   "execution_count": 7,
   "metadata": {},
   "outputs": [
    {
     "data": {
      "text/plain": [
       "False"
      ]
     },
     "execution_count": 7,
     "metadata": {},
     "output_type": "execute_result"
    }
   ],
   "source": [
    "drive_ch0 == drive_ch1"
   ]
  },
  {
   "cell_type": "markdown",
   "metadata": {},
   "source": [
    "## Commands\n",
    "Pulse `Command`s specify commands to be completed on a device `Channel`. Once defined a `Command` is *immutable* and may be used many times on many different channels. Some `Command`s may only be applied to specific `Channel` types."
   ]
  },
  {
   "cell_type": "markdown",
   "metadata": {},
   "source": [
    "The fundamental commands for the `PulseChannel` are:\n",
    "- `SamplePulse`: A pulse specified as a complex array of samples to be output out on the corresponding channel. Each pulse sample corresponds to a timestep of unit `dt` on the backend.\n",
    "- `FrameChange`: A persistent framechange of the phase of all future pulses on the corresponding channel. `Framechange`s have zero duration on the backend.\n",
    "- `PersistentValue`: A pulse that will holds its value until the next pulse on the corresponding channel. `PersistentValue` pulses will have variable duration on the backend as they depend on subsequent commands."
   ]
  },
  {
   "cell_type": "code",
   "execution_count": 31,
   "metadata": {},
   "outputs": [],
   "source": [
    "sine_pulse = SamplePulse(np.sin(np.linspace(0,4*np.pi, 20)), name='random_pulse')\n",
    "pi_fc = FrameChange(np.pi)\n",
    "one_pv = PersistentValue(1.0)"
   ]
  },
  {
   "cell_type": "markdown",
   "metadata": {},
   "source": [
    "The `name` for commands is optional if it is not supplied it will be automatically assigned."
   ]
  },
  {
   "cell_type": "markdown",
   "metadata": {},
   "source": [
    "`SamplePulse`s may be easily visualized"
   ]
  },
  {
   "cell_type": "code",
   "execution_count": 32,
   "metadata": {},
   "outputs": [
    {
     "data": {
      "image/png": "[encoded data removed]",
      "text/plain": [
       "<Figure size 504x360 with 1 Axes>"
      ]
     },
     "execution_count": 32,
     "metadata": {},
     "output_type": "execute_result"
    }
   ],
   "source": [
    "sine_pulse.draw()"
   ]
  },
  {
   "cell_type": "markdown",
   "metadata": {},
   "source": [
    "The fundamental command for the `AcquireChannel` is:\n",
    "- `Acquire`: Specify the acquisition, kerneling and discrimination of measurement data on a set of acquisition channels"
   ]
  },
  {
   "cell_type": "code",
   "execution_count": 33,
   "metadata": {},
   "outputs": [],
   "source": [
    "acquire = Acquire(100)"
   ]
  },
  {
   "cell_type": "markdown",
   "metadata": {},
   "source": [
    "The fundamental command for the `SnapshotChannel` is:\n",
    "- `Snapshot`: A snapshot of the simulated system."
   ]
  },
  {
   "cell_type": "code",
   "execution_count": 11,
   "metadata": {},
   "outputs": [],
   "source": [
    "snapshot = Snapshot('test_snapshot', 'state')"
   ]
  },
  {
   "cell_type": "markdown",
   "metadata": {},
   "source": [
    "All `Command`s have a `duration` attribute. This may be fixed as for the case of the `FrameChange` having zero duration, or dependent on the command as is the case for the `SamplePulse` who's duration is defined by the number of samples in the pulse."
   ]
  },
  {
   "cell_type": "code",
   "execution_count": 12,
   "metadata": {},
   "outputs": [
    {
     "data": {
      "text/plain": [
       "20"
      ]
     },
     "execution_count": 12,
     "metadata": {},
     "output_type": "execute_result"
    }
   ],
   "source": [
    "sine_pulse.duration"
   ]
  },
  {
   "cell_type": "code",
   "execution_count": 13,
   "metadata": {},
   "outputs": [
    {
     "data": {
      "text/plain": [
       "0"
      ]
     },
     "execution_count": 13,
     "metadata": {},
     "output_type": "execute_result"
    }
   ],
   "source": [
    "pi_fc.duration"
   ]
  },
  {
   "cell_type": "markdown",
   "metadata": {},
   "source": [
    "## Instructions\n",
    "\n",
    "An `Instruction` may be created by applying a `Command` to a set of `Channel`s. Each `Command` type has a corresponding `Instruction` type. An `Instruction` is obtained from a `Command` by calling `to_instruction` or directly calling the `Command`. The `Channel`s to apply the command to are supplied as arguments to the above call."
   ]
  },
  {
   "cell_type": "code",
   "execution_count": 48,
   "metadata": {},
   "outputs": [],
   "source": [
    "sine_instr = sine_pulse.to_instruction(drive_ch0)\n",
    "sine_instr_equivalent = sine_pulse(drive_ch0)"
   ]
  },
  {
   "cell_type": "markdown",
   "metadata": {},
   "source": [
    "Certain instructions such as the `AcquireInstruction` accept multiple channels. In this case `AcquireInstruction` accepts up to three lists of the same size. These are lists of `AcquireChannel`s, `MemorySlot`s and `RegisterSlot`s. This allows the acquisition, kerneling and discrimination of multiple qubit to be combined and the output of a given channel to directed to the desired storage location."
   ]
  },
  {
   "cell_type": "code",
   "execution_count": 34,
   "metadata": {},
   "outputs": [],
   "source": [
    "acquire_instr = acquire([acquire_ch0, acquire_ch1], [memory_slot0, memory_slot1])"
   ]
  },
  {
   "cell_type": "markdown",
   "metadata": {},
   "source": [
    "`Instructions` can also be plotted"
   ]
  },
  {
   "cell_type": "code",
   "execution_count": 38,
   "metadata": {},
   "outputs": [
    {
     "data": {
      "image/png": "[encoded data removed]",
      "text/plain": [
       "<Figure size 720x864 with 1 Axes>"
      ]
     },
     "execution_count": 38,
     "metadata": {},
     "output_type": "execute_result"
    }
   ],
   "source": [
    "sine_instr.draw()"
   ]
  },
  {
   "cell_type": "code",
   "execution_count": 39,
   "metadata": {},
   "outputs": [
    {
     "data": {
      "image/png": "[encoded data removed]",
      "text/plain": [
       "<Figure size 720x864 with 1 Axes>"
      ]
     },
     "execution_count": 39,
     "metadata": {},
     "output_type": "execute_result"
    }
   ],
   "source": [
    "acquire_instr.draw()"
   ]
  },
  {
   "cell_type": "markdown",
   "metadata": {},
   "source": [
    "`Instruction`s have a notion of time. Each instruction has a `start_time` and a set of `Timeslot`s that the instruction occupies. "
   ]
  },
  {
   "cell_type": "code",
   "execution_count": 40,
   "metadata": {},
   "outputs": [
    {
     "data": {
      "text/plain": [
       "0"
      ]
     },
     "execution_count": 40,
     "metadata": {},
     "output_type": "execute_result"
    }
   ],
   "source": [
    "sine_instr.start_time"
   ]
  },
  {
   "cell_type": "code",
   "execution_count": 41,
   "metadata": {},
   "outputs": [
    {
     "data": {
      "text/plain": [
       "20"
      ]
     },
     "execution_count": 41,
     "metadata": {},
     "output_type": "execute_result"
    }
   ],
   "source": [
    "sine_instr.duration"
   ]
  },
  {
   "cell_type": "markdown",
   "metadata": {},
   "source": [
    "`Timeslot`s are occupied on a channel-by-channel basis and may not overlap on a given channel. They are used to enforce time ordering within a pulse schedule."
   ]
  },
  {
   "cell_type": "code",
   "execution_count": 42,
   "metadata": {},
   "outputs": [
    {
     "data": {
      "text/plain": [
       "False"
      ]
     },
     "execution_count": 42,
     "metadata": {},
     "output_type": "execute_result"
    }
   ],
   "source": [
    "sine_instr.timeslots.is_mergeable_with(sine_instr.timeslots)"
   ]
  },
  {
   "cell_type": "code",
   "execution_count": 43,
   "metadata": {},
   "outputs": [
    {
     "data": {
      "text/plain": [
       "True"
      ]
     },
     "execution_count": 43,
     "metadata": {},
     "output_type": "execute_result"
    }
   ],
   "source": [
    "sine_instr.timeslots.is_mergeable_with(acquire_instr.timeslots)"
   ]
  },
  {
   "cell_type": "markdown",
   "metadata": {},
   "source": [
    "## Schedules\n",
    "Pulse schedules are made by scheduling `Instruction`s. The `Schedule` may be viewed as a container for `Instruction`s and `Schedule`s shifted in time. In this way a simple `Schedule`s may be treated as a building blocks for more complicated `Schedule`s. "
   ]
  },
  {
   "cell_type": "code",
   "execution_count": 44,
   "metadata": {},
   "outputs": [],
   "source": [
    "sched = Schedule(name='test_schedule')"
   ]
  },
  {
   "cell_type": "code",
   "execution_count": 52,
   "metadata": {},
   "outputs": [],
   "source": [
    "pulse_sched = Schedule(sine_instr, name='sine_schedule')\n",
    "acquire_sched = Schedule((10, acquire_instr), name='acquire_schedule')"
   ]
  },
  {
   "cell_type": "markdown",
   "metadata": {},
   "source": [
    "There are three basic methods for manipulating `Schedule`s. These methods all return a new `Schedule` which modifies the attributes of the underlying children `Schedule`s or `Instruction`s.\n",
    "\n",
    "1. `union`: Joins the supplied schedules and instructions, merging their timeslots together. If timeslots overlap an error will be raised.\n",
    "2. `shift`: Shifts the initial time of the `Schedule` or `Instruction` by an amount.\n",
    "3. `append`: Append the supplied schedule or instruction at the last time of the parent schedule plus the maximum buffer over the set of all channels shared by the parent and child schedules.\n",
    "\n",
    "Note that there is no requirement that a parent `Schedule` must contain all of the `Channel`s of a child `Schedule` or `Instruction` to which it is being joined with. The set of `Channel`s present in the `Schedule` will automatically be extended."
   ]
  },
  {
   "cell_type": "code",
   "execution_count": 53,
   "metadata": {},
   "outputs": [],
   "source": [
    "union_sched = pulse_sched.union(acquire_sched)"
   ]
  },
  {
   "cell_type": "code",
   "execution_count": 54,
   "metadata": {},
   "outputs": [
    {
     "data": {
      "image/png": "[encoded data removed]",
      "text/plain": [
       "<Figure size 720x864 with 1 Axes>"
      ]
     },
     "execution_count": 54,
     "metadata": {},
     "output_type": "execute_result"
    }
   ],
   "source": [
    "union_sched.draw()"
   ]
  },
  {
   "cell_type": "code",
   "execution_count": 55,
   "metadata": {},
   "outputs": [
    {
     "data": {
      "image/png": "[encoded data removed]",
      "text/plain": [
       "<Figure size 720x864 with 1 Axes>"
      ]
     },
     "execution_count": 55,
     "metadata": {},
     "output_type": "execute_result"
    }
   ],
   "source": [
    "shifted_pulse_sched = pulse_sched.shift(10)\n",
    "shifted_pulse_sched.draw()"
   ]
  },
  {
   "cell_type": "code",
   "execution_count": 56,
   "metadata": {},
   "outputs": [
    {
     "data": {
      "image/png": "[encoded data removed]",
      "text/plain": [
       "<Figure size 720x864 with 1 Axes>"
      ]
     },
     "execution_count": 56,
     "metadata": {},
     "output_type": "execute_result"
    }
   ],
   "source": [
    "pulse_sched.append(acquire_sched).draw()"
   ]
  },
  {
   "cell_type": "markdown",
   "metadata": {},
   "source": [
    "For ease of use it is also possible to build schedules directly from `Instruction`s. Note that a `Schedule` will still be returned."
   ]
  },
  {
   "cell_type": "code",
   "execution_count": 57,
   "metadata": {},
   "outputs": [
    {
     "data": {
      "image/png": "[encoded data removed]",
      "text/plain": [
       "<Figure size 720x864 with 1 Axes>"
      ]
     },
     "execution_count": 57,
     "metadata": {},
     "output_type": "execute_result"
    }
   ],
   "source": [
    "combined_schedule = sine_instr.append(acquire_instr)\n",
    "combined_schedule.draw()"
   ]
  },
  {
   "cell_type": "markdown",
   "metadata": {},
   "source": [
    "### Syntactic Sugar\n",
    "\n",
    "To make it easier to build pulse schedules there exists a **syntactic sugar** for operating on schedules\n",
    "\n",
    "1. `a.union(b)` $\\equiv$ `a | b`\n",
    "2. `a.append(b)` $\\equiv$ `a + b`\n",
    "3. `a.shift(time)` $\\equiv$ `a << time`\n",
    "\n",
    "As the `Schedule` for the above methods emulate numeric types this enables a simple way of construction composite pulse schedules.\n",
    "\n",
    "Below we construct two equivalent schedules one with the syntactic sugar and one without"
   ]
  },
  {
   "cell_type": "code",
   "execution_count": 58,
   "metadata": {},
   "outputs": [
    {
     "data": {
      "image/png": "[encoded data removed]",
      "text/plain": [
       "<Figure size 720x864 with 1 Axes>"
      ]
     },
     "execution_count": 58,
     "metadata": {},
     "output_type": "execute_result"
    }
   ],
   "source": [
    "sched = Schedule(name='verbose')\n",
    "sched = sched.union(sine_instr.shift(10))\n",
    "sched = sched.append(acquire_instr.append(sine_instr))\n",
    "sched.draw()"
   ]
  },
  {
   "cell_type": "code",
   "execution_count": 59,
   "metadata": {},
   "outputs": [
    {
     "data": {
      "image/png": "[encoded data removed]",
      "text/plain": [
       "<Figure size 720x864 with 1 Axes>"
      ]
     },
     "execution_count": 59,
     "metadata": {},
     "output_type": "execute_result"
    }
   ],
   "source": [
    "sched = Schedule(name='syntactic_sugar')\n",
    "sched |= sine_instr << 10\n",
    "sched += acquire_instr + sine_instr\n",
    "sched.draw()"
   ]
  },
  {
   "cell_type": "markdown",
   "metadata": {},
   "source": [
    "## Outcomes of Pulse Schedules"
   ]
  },
  {
   "cell_type": "markdown",
   "metadata": {},
   "source": [
    "There are three (integer) measurement pulse levels (`meas_levels`) for pulse outputs which are triggered by `Acquire` commands and stored into the desired `MemorySlots`:\n",
    "- Measurement level 0: Return the sampled measurement output from the `AcquireChannel` after mixing down with the measurement stimulus LO. There will be a large amount of data associated with measurement level.\n",
    "- Measurement level 1: Return the data after the application of a user specified (or default if not specified) kernel.\n",
    "- Measurement level 2: Return the discriminated counts after the application of a measurement kernel and discriminator. This corresponds to the measurement output of a quantum circuit. See the [circuits notebook](quantum_circuits.ipynb) for more information.\n",
    "\n",
    "For measurement level 0 and 1 there is another supported measurement result post-processing modifier, `meas_return`:\n",
    "- `single`: Return the results for each individual shot.\n",
    "- `avg`: Average the results over all shots.\n",
    "\n",
    "<div class=\"alert alert-block alert-info\">\n",
    "<b>Note:</b> All modes may not be supported on all backends due to different system constraints.\n",
    "</div>"
   ]
  },
  {
   "cell_type": "markdown",
   "metadata": {},
   "source": [
    "<div class=\"alert alert-block alert-info\">\n",
    "<b>Note:</b> Methods below are not executed as the pulse simulator has not yet been released for Qiskit.\n",
    "</div>"
   ]
  },
  {
   "cell_type": "markdown",
   "metadata": {},
   "source": [
    "Schedules may be executed in a similar manner to schedules "
   ]
  },
  {
   "cell_type": "markdown",
   "metadata": {},
   "source": [
    "```python\n",
    "job = execute(sched, meas_level=1, meas_return='avg')\n",
    "result = job.result()\n",
    "```"
   ]
  },
  {
   "cell_type": "markdown",
   "metadata": {},
   "source": [
    "For measurement levels 0 and 1 results may be extracted from the result object with"
   ]
  },
  {
   "cell_type": "markdown",
   "metadata": {},
   "source": [
    "```python \n",
    "result.get_memory(schedule)\n",
    "```"
   ]
  },
  {
   "cell_type": "markdown",
   "metadata": {},
   "source": [
    "For measurement levels 2, results are extracted in the same way as for circuit results. To get individual shot counts,"
   ]
  },
  {
   "cell_type": "markdown",
   "metadata": {},
   "source": [
    "```python\n",
    "result.get_memory(schedule)\n",
    "```"
   ]
  },
  {
   "cell_type": "markdown",
   "metadata": {},
   "source": [
    "and for binned counts"
   ]
  },
  {
   "cell_type": "markdown",
   "metadata": {},
   "source": [
    "```python\n",
    "job = execute(sched, meas_level=2)\n",
    "result = job.result()\n",
    "result.get_counts(schedule)\n",
    "```"
   ]
  }
 ],
 "metadata": {
  "kernelspec": {
   "display_name": "Python 3",
   "language": "python",
   "name": "python3"
  },
  "language_info": {
   "codemirror_mode": {
    "name": "ipython",
    "version": 3
   },
   "file_extension": ".py",
   "mimetype": "text/x-python",
   "name": "python",
   "nbconvert_exporter": "python",
   "pygments_lexer": "ipython3",
   "version": "3.7.3"
  },
  "varInspector": {
   "cols": {
    "lenName": 16,
    "lenType": 16,
    "lenVar": 40
   },
   "kernels_config": {
    "python": {
     "delete_cmd_postfix": "",
     "delete_cmd_prefix": "del ",
     "library": "var_list.py",
     "varRefreshCmd": "print(var_dic_list())"
    },
    "r": {
     "delete_cmd_postfix": ") ",
     "delete_cmd_prefix": "rm(",
     "library": "var_list.r",
     "varRefreshCmd": "cat(var_dic_list()) "
    }
   },
   "types_to_exclude": [
    "module",
    "function",
    "builtin_function_or_method",
    "instance",
    "_Feature"
   ],
   "window_display": false
  }
 },
 "nbformat": 4,
 "nbformat_minor": 2
}
