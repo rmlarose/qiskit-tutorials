{
 "cells": [
  {
   "cell_type": "markdown",
   "metadata": {},
   "source": [
    "<img src=\"../../../images/qiskit_header.png\" alt=\"Note: In order for images to show up in this jupyter notebook you need to select File => Trusted Notebook\" align=\"middle\">"
   ]
  },
  {
   "cell_type": "markdown",
   "metadata": {},
   "source": [
    "# Quantum Process Tomography\n",
    "\n",
    "* **Last Updated:** June 17, 2019\n",
    "* **Requires:** qiskit-terra 0.8, qiskit-ignis 0.1.1, qiskit-aer 0.2"
   ]
  },
  {
   "cell_type": "markdown",
   "metadata": {},
   "source": [
    "This notebook contains examples for using the ``ignis.verification.tomography`` process tomography module."
   ]
  },
  {
   "cell_type": "code",
   "execution_count": 1,
   "metadata": {},
   "outputs": [],
   "source": [
    "# Needed for functions\n",
    "import numpy as np\n",
    "import time\n",
    "\n",
    "# Import QISKit classes\n",
    "import qiskit\n",
    "from qiskit import QuantumRegister, QuantumCircuit, Aer\n",
    "from qiskit.quantum_info import state_fidelity, process_fidelity\n",
    "from qiskit.tools.qi.qi import outer\n",
    "\n",
    "# Tomography functions\n",
    "from qiskit.ignis.verification.tomography import process_tomography_circuits, ProcessTomographyFitter"
   ]
  },
  {
   "cell_type": "markdown",
   "metadata": {},
   "source": [
    "## 1-qubit process tomography example"
   ]
  },
  {
   "cell_type": "code",
   "execution_count": 2,
   "metadata": {},
   "outputs": [
    {
     "data": {
      "text/plain": [
       "{(('Zp',), ('X',)): {'0': 4000},\n",
       " (('Zp',), ('Y',)): {'0': 2033, '1': 1967},\n",
       " (('Zp',), ('Z',)): {'0': 1985, '1': 2015},\n",
       " (('Zm',), ('X',)): {'1': 4000},\n",
       " (('Zm',), ('Y',)): {'0': 1959, '1': 2041},\n",
       " (('Zm',), ('Z',)): {'0': 2026, '1': 1974},\n",
       " (('Xp',), ('X',)): {'0': 2030, '1': 1970},\n",
       " (('Xp',), ('Y',)): {'0': 1993, '1': 2007},\n",
       " (('Xp',), ('Z',)): {'0': 4000},\n",
       " (('Yp',), ('X',)): {'0': 2040, '1': 1960},\n",
       " (('Yp',), ('Y',)): {'1': 4000},\n",
       " (('Yp',), ('Z',)): {'0': 1979, '1': 2021}}"
      ]
     },
     "execution_count": 2,
     "metadata": {},
     "output_type": "execute_result"
    }
   ],
   "source": [
    "# Process tomography of a Hadamard gate\n",
    "q = QuantumRegister(1)\n",
    "circ = QuantumCircuit(q)\n",
    "circ.h(q[0])\n",
    "\n",
    "# Run circuit on unitary simulator to find ideal unitary\n",
    "job = qiskit.execute(circ, Aer.get_backend('unitary_simulator'))\n",
    "ideal_unitary = job.result().get_unitary(circ)\n",
    "# convert to Choi-matrix in column-major convention\n",
    "choi_ideal = outer(ideal_unitary.ravel(order='F'))\n",
    "\n",
    "# Generate process tomography circuits and run on qasm simulator\n",
    "qpt_circs = process_tomography_circuits(circ, q)\n",
    "job = qiskit.execute(qpt_circs, Aer.get_backend('qasm_simulator'), shots=4000)\n",
    "\n",
    "# Extract tomography data so that counts are indexed by measurement configuration\n",
    "qpt_tomo = ProcessTomographyFitter(job.result(), qpt_circs)\n",
    "qpt_tomo.data"
   ]
  },
  {
   "cell_type": "code",
   "execution_count": 3,
   "metadata": {},
   "outputs": [
    {
     "name": "stdout",
     "output_type": "stream",
     "text": [
      "Least-Sq Fitter\n",
      "fit time: 0.009121894836425781\n",
      "fit fidelity (state): 0.9976767994222256\n",
      "fit fidelity (process): 0.995358994837865\n",
      "\n",
      "CVXOPT Fitter\n",
      "fit time: 0.05771899223327637\n",
      "fit fidelity (state): 0.9999108703920029\n",
      "fit fidelity (process): 0.9998217487227923\n"
     ]
    }
   ],
   "source": [
    "# MLE Least-Squares tomographic reconstruction\n",
    "t = time.time()\n",
    "choi_lstsq = qpt_tomo.fit(method='lstsq')\n",
    "print('Least-Sq Fitter')\n",
    "print('fit time:', time.time() - t)\n",
    "print('fit fidelity (state):', state_fidelity(choi_ideal / 2, choi_lstsq.data / 2))\n",
    "print('fit fidelity (process):', np.real(process_fidelity(choi_ideal, choi_lstsq.data, require_cptp=False)))\n",
    "\n",
    "\n",
    "# CVXOPT Semidefinite-Program tomographic reconstruction\n",
    "t = time.time()\n",
    "choi_cvx = qpt_tomo.fit(method='cvx')\n",
    "print('\\nCVXOPT Fitter')\n",
    "print('fit time:', time.time() - t)\n",
    "print('fit fidelity (state):', state_fidelity(choi_ideal / 2, choi_cvx.data / 2))\n",
    "print('fit fidelity (process):', np.real(process_fidelity(choi_ideal, choi_cvx.data, require_cptp=False)))\n"
   ]
  },
  {
   "cell_type": "markdown",
   "metadata": {},
   "source": [
    "## 1-qubit process tomography of two-qubit swap gate\n",
    "\n",
    "We will prepare qubit-0 and measure qubit-1 so the reconstructed channel should be an identity"
   ]
  },
  {
   "cell_type": "code",
   "execution_count": 4,
   "metadata": {},
   "outputs": [
    {
     "data": {
      "text/plain": [
       "{(('Zp',), ('X',)): {'0': 1007, '1': 993},\n",
       " (('Zp',), ('Y',)): {'0': 962, '1': 1038},\n",
       " (('Zp',), ('Z',)): {'0': 2000},\n",
       " (('Zm',), ('X',)): {'0': 1059, '1': 941},\n",
       " (('Zm',), ('Y',)): {'0': 1000, '1': 1000},\n",
       " (('Zm',), ('Z',)): {'1': 2000},\n",
       " (('Xp',), ('X',)): {'0': 2000},\n",
       " (('Xp',), ('Y',)): {'0': 1010, '1': 990},\n",
       " (('Xp',), ('Z',)): {'0': 995, '1': 1005},\n",
       " (('Yp',), ('X',)): {'0': 1003, '1': 997},\n",
       " (('Yp',), ('Y',)): {'0': 2000},\n",
       " (('Yp',), ('Z',)): {'0': 978, '1': 1022}}"
      ]
     },
     "execution_count": 4,
     "metadata": {},
     "output_type": "execute_result"
    }
   ],
   "source": [
    "# Process tomography of a Hadamard gate\n",
    "q = QuantumRegister(2)\n",
    "circ = QuantumCircuit(q)\n",
    "circ.swap(q[0], q[1])\n",
    "\n",
    "# Ideal channel is a unitary\n",
    "ideal_unitary = np.eye(2)\n",
    "choi_ideal = outer(ideal_unitary.ravel(order='F'))\n",
    "\n",
    "# Generate process tomography circuits and run on qasm simulator\n",
    "# We use the optional prepared_qubits kwarg to specify that the prepared qubit was different to measured qubit\n",
    "qpt_circs = process_tomography_circuits(circ, q[1], prepared_qubits=q[0])\n",
    "job = qiskit.execute(qpt_circs, Aer.get_backend('qasm_simulator'), shots=2000)\n",
    "\n",
    "# Extract tomography data so that counts are indexed by measurement configuration\n",
    "qpt_tomo = ProcessTomographyFitter(job.result(), qpt_circs)\n",
    "qpt_tomo.data"
   ]
  },
  {
   "cell_type": "code",
   "execution_count": 5,
   "metadata": {},
   "outputs": [
    {
     "name": "stdout",
     "output_type": "stream",
     "text": [
      "Least-Sq Fitter\n",
      "fit time: 0.006497859954833984\n",
      "fit fidelity (state): 0.9866920175150853\n",
      "fit fidelity (process): 0.9735611374279911\n",
      "\n",
      "CVXOPT Fitter\n",
      "fit time: 0.04198098182678223\n",
      "fit fidelity (state): 0.999940174723841\n",
      "fit fidelity (process): 0.9998803530267468\n"
     ]
    }
   ],
   "source": [
    "# Least-Squares tomographic reconstruction\n",
    "t = time.time()\n",
    "choi_lstsq = qpt_tomo.fit(method='lstsq')\n",
    "print('Least-Sq Fitter')\n",
    "print('fit time:', time.time() - t)\n",
    "print('fit fidelity (state):', state_fidelity(choi_ideal / 2, choi_lstsq.data / 2))\n",
    "print('fit fidelity (process):', np.real(process_fidelity(choi_ideal, choi_lstsq.data, require_cptp=False)))\n",
    "\n",
    "# CVXOPT Semidefinite-Program tomographic reconstruction\n",
    "t = time.time()\n",
    "choi_cvx = qpt_tomo.fit(method='cvx')\n",
    "print('\\nCVXOPT Fitter')\n",
    "print('fit time:', time.time() - t)\n",
    "print('fit fidelity (state):', state_fidelity(choi_ideal / 2, choi_cvx.data / 2))\n",
    "print('fit fidelity (process):', np.real(process_fidelity(choi_ideal, choi_cvx.data, require_cptp=False)))"
   ]
  },
  {
   "cell_type": "markdown",
   "metadata": {},
   "source": [
    "## 2-Qubit entangling circuit"
   ]
  },
  {
   "cell_type": "code",
   "execution_count": 6,
   "metadata": {},
   "outputs": [
    {
     "name": "stdout",
     "output_type": "stream",
     "text": [
      "Least-Sq Fitter\n",
      "fit time: 0.1802959442138672\n",
      "fit fidelity (state): 0.9842194915019892\n",
      "fit fidelity (process): 0.9686880063880137\n",
      "\n",
      "CVXOPT Fitter\n",
      "fit time: 1.1846849918365479\n",
      "fit fidelity (state): 0.9999324749848556\n",
      "fit fidelity (process): 0.9998649545043932\n"
     ]
    }
   ],
   "source": [
    "# Bell-state entangling circuit\n",
    "q = QuantumRegister(2)\n",
    "circ = QuantumCircuit(q)\n",
    "circ.h(q[0])\n",
    "circ.cx(q[0], q[1])\n",
    "\n",
    "# Run circuit on unitary simulator to find ideal unitary\n",
    "job = qiskit.execute(circ, Aer.get_backend('unitary_simulator'))\n",
    "ideal_unitary = job.result().get_unitary(circ)\n",
    "# convert to Choi-matrix in column-major convention\n",
    "choi_ideal = outer(ideal_unitary.ravel(order='F'))\n",
    "\n",
    "# Generate process tomography circuits and run on qasm simulator\n",
    "qpt_circs = process_tomography_circuits(circ, q)\n",
    "job = qiskit.execute(qpt_circs, Aer.get_backend('qasm_simulator'), shots=2000)\n",
    "\n",
    "# Extract tomography data so that counts are indexed by measurement configuration\n",
    "qpt_tomo = ProcessTomographyFitter(job.result(), qpt_circs)\n",
    "\n",
    "t = time.time()\n",
    "choi_lstsq = qpt_tomo.fit(method='lstsq')\n",
    "print('Least-Sq Fitter')\n",
    "print('fit time:', time.time() - t)\n",
    "print('fit fidelity (state):', state_fidelity(choi_ideal / 4, choi_lstsq.data / 4))\n",
    "print('fit fidelity (process):', np.real(process_fidelity(choi_ideal, choi_lstsq.data, require_cptp=False)))\n",
    "\n",
    "t = time.time()\n",
    "choi_cvx = qpt_tomo.fit(method='cvx')\n",
    "print('\\nCVXOPT Fitter')\n",
    "print('fit time:', time.time() - t)\n",
    "print('fit fidelity (state):', state_fidelity(choi_ideal / 4, choi_cvx.data / 4))\n",
    "print('fit fidelity (process):', np.real(process_fidelity(choi_ideal, choi_cvx.data, require_cptp=False)))"
   ]
  },
  {
   "cell_type": "markdown",
   "metadata": {},
   "source": [
    "## Using SIC-POVM preparation basis"
   ]
  },
  {
   "cell_type": "code",
   "execution_count": 7,
   "metadata": {},
   "outputs": [
    {
     "data": {
      "text/plain": [
       "{(('S0',), ('X',)): {'0': 2000},\n",
       " (('S0',), ('Y',)): {'0': 999, '1': 1001},\n",
       " (('S0',), ('Z',)): {'0': 1013, '1': 987},\n",
       " (('S1',), ('X',)): {'0': 713, '1': 1287},\n",
       " (('S1',), ('Y',)): {'0': 977, '1': 1023},\n",
       " (('S1',), ('Z',)): {'0': 1938, '1': 62},\n",
       " (('S2',), ('X',)): {'0': 665, '1': 1335},\n",
       " (('S2',), ('Y',)): {'0': 1828, '1': 172},\n",
       " (('S2',), ('Z',)): {'0': 543, '1': 1457},\n",
       " (('S3',), ('X',)): {'0': 645, '1': 1355},\n",
       " (('S3',), ('Y',)): {'0': 206, '1': 1794},\n",
       " (('S3',), ('Z',)): {'0': 507, '1': 1493}}"
      ]
     },
     "execution_count": 7,
     "metadata": {},
     "output_type": "execute_result"
    }
   ],
   "source": [
    "# Process tomography of a Hadamard gate\n",
    "q = QuantumRegister(1)\n",
    "circ = QuantumCircuit(q)\n",
    "circ.h(q[0])\n",
    "\n",
    "# Run circuit on unitary simulator to find ideal unitary\n",
    "job = qiskit.execute(circ, Aer.get_backend('unitary_simulator'))\n",
    "ideal_unitary = job.result().get_unitary(circ)\n",
    "# convert to Choi-matrix in column-major convention\n",
    "choi_ideal = outer(ideal_unitary.ravel(order='F'))\n",
    "\n",
    "# Generate process tomography circuits and run on qasm simulator\n",
    "qpt_circs = process_tomography_circuits(circ, q, prep_labels='SIC', prep_basis='SIC')\n",
    "job = qiskit.execute(qpt_circs, Aer.get_backend('qasm_simulator'), shots=2000)\n",
    "\n",
    "# Extract tomography data so that counts are indexed by measurement configuration\n",
    "qpt_tomo = ProcessTomographyFitter(job.result(), qpt_circs, prep_basis='SIC')\n",
    "qpt_tomo.data"
   ]
  },
  {
   "cell_type": "code",
   "execution_count": 8,
   "metadata": {},
   "outputs": [
    {
     "name": "stdout",
     "output_type": "stream",
     "text": [
      "Least-Sq Fitter\n",
      "fit time: 0.007508039474487305\n",
      "fit fidelity (state): 0.9906085840000641\n",
      "fit fidelity (process): 0.9813053636480525\n",
      "\n",
      "CVXOPT Fitter\n",
      "fit time: 0.04143118858337402\n",
      "fit fidelity (state): 0.9958380801102131\n",
      "fit fidelity (process): 0.9916934801256183\n"
     ]
    }
   ],
   "source": [
    "# MLE Least-Squares tomographic reconstruction\n",
    "t = time.time()\n",
    "choi_lstsq = qpt_tomo.fit(method='lstsq')\n",
    "print('Least-Sq Fitter')\n",
    "print('fit time:', time.time() - t)\n",
    "print('fit fidelity (state):', state_fidelity(choi_ideal / 2, choi_lstsq.data / 2))\n",
    "print('fit fidelity (process):', np.real(process_fidelity(choi_ideal, choi_lstsq.data, require_cptp=False)))\n",
    "\n",
    "# CVXOPT Semidefinite-Program tomographic reconstruction\n",
    "t = time.time()\n",
    "choi_cvx = qpt_tomo.fit(method='cvx')\n",
    "\n",
    "print('\\nCVXOPT Fitter')\n",
    "print('fit time:', time.time() - t)\n",
    "print('fit fidelity (state):', state_fidelity(choi_ideal / 2, choi_cvx.data / 2))\n",
    "print('fit fidelity (process):', np.real(process_fidelity(choi_ideal, choi_cvx.data, require_cptp=False)))"
   ]
  }
 ],
 "metadata": {
  "kernelspec": {
   "display_name": "Python 3",
   "language": "python",
   "name": "python3"
  },
  "language_info": {
   "codemirror_mode": {
    "name": "ipython",
    "version": 3
   },
   "file_extension": ".py",
   "mimetype": "text/x-python",
   "name": "python",
   "nbconvert_exporter": "python",
   "pygments_lexer": "ipython3",
   "version": "3.7.3"
  },
  "varInspector": {
   "cols": {
    "lenName": 16,
    "lenType": 16,
    "lenVar": 40
   },
   "kernels_config": {
    "python": {
     "delete_cmd_postfix": "",
     "delete_cmd_prefix": "del ",
     "library": "var_list.py",
     "varRefreshCmd": "print(var_dic_list())"
    },
    "r": {
     "delete_cmd_postfix": ") ",
     "delete_cmd_prefix": "rm(",
     "library": "var_list.r",
     "varRefreshCmd": "cat(var_dic_list()) "
    }
   },
   "types_to_exclude": [
    "module",
    "function",
    "builtin_function_or_method",
    "instance",
    "_Feature"
   ],
   "window_display": false
  }
 },
 "nbformat": 4,
 "nbformat_minor": 2
}
