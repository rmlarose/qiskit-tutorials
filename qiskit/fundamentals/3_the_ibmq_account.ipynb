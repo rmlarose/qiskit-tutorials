{
 "cells": [
  {
   "cell_type": "markdown",
   "metadata": {},
   "source": [
    "<img src=\"../../images/qiskit_header.png\" alt=\"Note: In order for images to show up in this jupyter notebook you need to select File => Trusted Notebook\" align=\"middle\">"
   ]
  },
  {
   "cell_type": "markdown",
   "metadata": {},
   "source": [
    "# The IBM Q Account"
   ]
  },
  {
   "cell_type": "markdown",
   "metadata": {},
   "source": [
    "In Qiskit we have an interface for backends and jobs that is useful for running circuits and extending to third-party backends. In this tutorial, we will review the core components of Qiskit’s base backend framework, using the IBM Q account as an example.\n",
    "\n",
    "The interface has four main component: the account, providers, backends, and jobs:\n",
    "\n",
    "- **account**: Gives access to one or more ‘providers’ based on account permissions.\n",
    "\n",
    "- **providers**: Provides access to quantum devices and simulators, collectively called ‘backends’, and additional services tailored to a specific backend instance.\n",
    "\n",
    "- **backends**: A quantum device or simulator capable of running quantum circuits or pulse schedules.\n",
    "\n",
    "- **jobs**: A local reference to a collection of quantum circuits or pulse schedules submitted to a given backend."
   ]
  },
  {
   "cell_type": "markdown",
   "metadata": {
    "ExecuteTime": {
     "end_time": "2019-08-10T11:26:18.728475Z",
     "start_time": "2019-08-10T11:26:18.724151Z"
    }
   },
   "source": [
    "## Table of contents\n",
    "\n",
    "1) [The Account](#account)\n",
    "\n",
    "\n",
    "2) [The Provider](#provider)\n",
    "\n",
    "\n",
    "3) [Backends](#backends)\n",
    "    \n",
    "    \n",
    "3) [Jobs](#jobs)"
   ]
  },
  {
   "cell_type": "markdown",
   "metadata": {},
   "source": [
    "## The Account <a name='account'></a>\n",
    "\n",
    "The Qiskit `IBMQ` account object is the local reference for accessing your IBM Q account, and all of the providers, backends, etc, that are available to you.\n",
    "\n",
    "The `IBMQ` account has functions for handling administrative tasks. The credentials can be saved to disk, or used in a session and never saved.\n",
    "\n",
    "- `enable_account(TOKEN)`: Enable your account in the current session\n",
    "- `save_account(TOKEN)`: Save your account to disk for future use.\n",
    "- `load_account()`: Load account using stored credentials.\n",
    "- `disable_account()`: Disable your account in the current session.\n",
    "- `stored_account()`: List the account stored to disk.\n",
    "- `active_account()`: List the account currently in the session.\n",
    "- `delete_account()`: Delete the saved account from disk.\n",
    "\n",
    "\n",
    "\n",
    "In order to access quantum devices, simulators, or other services, you must specify the source of these items by selecting a provider. To see all the providers available:\n",
    "\n",
    "\n",
    "<div class=\"alert alert-block alert-info\">\n",
    "<b>Note:</b> The use of `provider` instances is the default way of retrieving backends from Qiskit 0.11 onwards - if you have been using earlier versions of Qiskit, check the \"Updating from previous versions\" section for more detailed instructions on updating and using the different options.</div>\n",
    "</div>"
   ]
  },
  {
   "cell_type": "code",
   "execution_count": 1,
   "metadata": {
    "ExecuteTime": {
     "end_time": "2019-08-10T09:32:08.428757Z",
     "start_time": "2019-08-10T09:32:00.431046Z"
    }
   },
   "outputs": [
    {
     "data": {
      "text/plain": [
       "[<AccountProvider for IBMQ(hub='ibm-q', group='open', project='main')>,\n",
       " <AccountProvider for IBMQ(hub='ibm-q-perf', group='performance', project='default-params')>,\n",
       " <AccountProvider for IBMQ(hub='ibm-q-perf', group='performance', project='condor')>,\n",
       " <AccountProvider for IBMQ(hub='ibm-q-perf', group='qcaas', project='default')>,\n",
       " <AccountProvider for IBMQ(hub='perf-on-client-d', group='normal', project='default')>]"
      ]
     },
     "execution_count": 1,
     "metadata": {},
     "output_type": "execute_result"
    }
   ],
   "source": [
    "from qiskit import IBMQ\n",
    "\n",
    "IBMQ.load_account() # Load account from disk\n",
    "IBMQ.providers()    # List all available providers"
   ]
  },
  {
   "cell_type": "markdown",
   "metadata": {},
   "source": [
    "where we have assumed that the user has stored their IBMQ account information locally ahead of time using `IBMQ.save_account(TOKEN)`.\n",
    "\n",
    "The above example shows two different providers. All `IBMQ` providers are specified by a `hub`, `group`, and `project`. The provider given by `hub='ibm-q', group='open', project='main'` is the provider that gives access to the public IBM Q devices available to all IQX users. The second is an example of a provider that is only unlocked for a specific set of users. Members of the IBM Q network may see one or more providers (with names different than those shown above) depending on the access level granted to them."
   ]
  },
  {
   "cell_type": "markdown",
   "metadata": {},
   "source": [
    "To access a given provider one should use the get_provider() method of the IBMQ account, filtering by `hub`, `group`, or `project`:"
   ]
  },
  {
   "cell_type": "code",
   "execution_count": 3,
   "metadata": {
    "ExecuteTime": {
     "end_time": "2019-08-10T09:34:10.585597Z",
     "start_time": "2019-08-10T09:34:10.581126Z"
    }
   },
   "outputs": [
    {
     "data": {
      "text/plain": [
       "<AccountProvider for IBMQ(hub='ibm-q', group='open', project='main')>"
      ]
     },
     "execution_count": 3,
     "metadata": {},
     "output_type": "execute_result"
    }
   ],
   "source": [
    "IBMQ.get_provider(hub='ibm-q')"
   ]
  },
  {
   "cell_type": "code",
   "execution_count": 4,
   "metadata": {
    "ExecuteTime": {
     "end_time": "2019-08-10T09:34:32.437442Z",
     "start_time": "2019-08-10T09:34:32.432869Z"
    }
   },
   "outputs": [
    {
     "data": {
      "text/plain": [
       "<AccountProvider for IBMQ(hub='ibm-q-perf', group='performance', project='default-params')>"
      ]
     },
     "execution_count": 4,
     "metadata": {},
     "output_type": "execute_result"
    }
   ],
   "source": [
    "IBMQ.get_provider(project='default-params')"
   ]
  },
  {
   "cell_type": "markdown",
   "metadata": {},
   "source": [
    "Finally, as a convenience, calling `IBMQ.load_account()` or `IBMQ.enable_account()` will return the default public provider instance `<AccountProvider for IBMQ(hub='ibm-q', group='open', project='main')>`."
   ]
  },
  {
   "cell_type": "markdown",
   "metadata": {},
   "source": [
    "## The Provider <a name='provider'></a>\n",
    "\n",
    "Providers accessed via the `IBMQ` account provide access to a group of different backends (for example, backends available through the IBM Q Experience or IBM Q Network quantum cloud services).\n",
    "\n",
    "A provider inherits from `BaseProvider` and implements the methods:\n",
    "\n",
    "- `backends()`: Returns all backend objects known to the provider.\n",
    "- `get_backend(NAME)`: Returns the named backend.\n",
    "\n",
    "Using the public provider instance from above:"
   ]
  },
  {
   "cell_type": "code",
   "execution_count": 6,
   "metadata": {
    "ExecuteTime": {
     "end_time": "2019-08-10T09:36:23.193295Z",
     "start_time": "2019-08-10T09:36:22.760961Z"
    }
   },
   "outputs": [
    {
     "data": {
      "text/plain": [
       "[<IBMQSimulator('ibmq_qasm_simulator') from IBMQ(hub='ibm-q', group='open', project='main')>,\n",
       " <IBMQBackend('ibmqx4') from IBMQ(hub='ibm-q', group='open', project='main')>,\n",
       " <IBMQBackend('ibmqx2') from IBMQ(hub='ibm-q', group='open', project='main')>,\n",
       " <IBMQBackend('ibmq_16_melbourne') from IBMQ(hub='ibm-q', group='open', project='main')>]"
      ]
     },
     "execution_count": 6,
     "metadata": {},
     "output_type": "execute_result"
    }
   ],
   "source": [
    "provider = IBMQ.get_provider(hub='ibm-q')\n",
    "provider.backends()"
   ]
  },
  {
   "cell_type": "markdown",
   "metadata": {},
   "source": [
    "Selecting a backend is done by name using the `get_backend(NAME)` method:"
   ]
  },
  {
   "cell_type": "code",
   "execution_count": 8,
   "metadata": {
    "ExecuteTime": {
     "end_time": "2019-08-10T09:37:09.637775Z",
     "start_time": "2019-08-10T09:37:09.633565Z"
    }
   },
   "outputs": [
    {
     "data": {
      "text/plain": [
       "<IBMQBackend('ibmq_16_melbourne') from IBMQ(hub='ibm-q', group='open', project='main')>"
      ]
     },
     "execution_count": 8,
     "metadata": {},
     "output_type": "execute_result"
    }
   ],
   "source": [
    "backend = provider.get_backend('ibmq_16_melbourne')\n",
    "backend"
   ]
  },
  {
   "cell_type": "markdown",
   "metadata": {},
   "source": [
    "and backends which are available in the default provider"
   ]
  },
  {
   "cell_type": "code",
   "execution_count": 7,
   "metadata": {},
   "outputs": [
    {
     "data": {
      "text/plain": [
       "[<IBMQBackend('ibmqx4') from IBMQ()>,\n",
       " <IBMQBackend('ibmqx2') from IBMQ()>,\n",
       " <IBMQBackend('ibmq_16_melbourne') from IBMQ()>,\n",
       " <IBMQSimulator('ibmq_qasm_simulator') from IBMQ()>]"
      ]
     },
     "execution_count": 7,
     "metadata": {},
     "output_type": "execute_result"
    }
   ],
   "source": [
    "provider.backends()"
   ]
  },
  {
   "cell_type": "markdown",
   "metadata": {},
   "source": [
    "### Filtering the Backends\n",
    "\n",
    "You may also optionally filter the set of returned backends, by passing arguments that query the backend’s `configuration`, `status`, or `properties`. The filters are passed by conditions and, for more general filters, you can make advanced functions using the lambda function.\n",
    "\n",
    "As a first example lets return only those backends that are real quantum devices, and that are currently operational:"
   ]
  },
  {
   "cell_type": "code",
   "execution_count": 9,
   "metadata": {
    "ExecuteTime": {
     "end_time": "2019-08-10T09:39:00.685464Z",
     "start_time": "2019-08-10T09:38:59.837398Z"
    }
   },
   "outputs": [
    {
     "data": {
      "text/plain": [
       "[<IBMQBackend('ibmqx4') from IBMQ(hub='ibm-q', group='open', project='main')>,\n",
       " <IBMQBackend('ibmqx2') from IBMQ(hub='ibm-q', group='open', project='main')>,\n",
       " <IBMQBackend('ibmq_16_melbourne') from IBMQ(hub='ibm-q', group='open', project='main')>]"
      ]
     },
     "execution_count": 9,
     "metadata": {},
     "output_type": "execute_result"
    }
   ],
   "source": [
    "provider.backends(simulator=False, operational=True)"
   ]
  },
  {
   "cell_type": "markdown",
   "metadata": {},
   "source": [
    "Or, only those backends that are real devices, have more than 10 qubits, and are operational"
   ]
  },
  {
   "cell_type": "code",
   "execution_count": 13,
   "metadata": {
    "ExecuteTime": {
     "end_time": "2019-08-10T09:40:18.300155Z",
     "start_time": "2019-08-10T09:40:17.775145Z"
    }
   },
   "outputs": [
    {
     "data": {
      "text/plain": [
       "[<IBMQBackend('ibmq_16_melbourne') from IBMQ(hub='ibm-q', group='open', project='main')>]"
      ]
     },
     "execution_count": 13,
     "metadata": {},
     "output_type": "execute_result"
    }
   ],
   "source": [
    "provider.backends(filters=lambda x: x.configuration().n_qubits >= 10\n",
    "                                    and not x.configuration().simulator\n",
    "                                    and x.status().operational==True)"
   ]
  },
  {
   "cell_type": "markdown",
   "metadata": {},
   "source": [
    "Lastly, show the least busy 5 qubit device (in terms of the number of jobs pending in the queue)"
   ]
  },
  {
   "cell_type": "code",
   "execution_count": 15,
   "metadata": {
    "ExecuteTime": {
     "end_time": "2019-08-10T09:41:49.653822Z",
     "start_time": "2019-08-10T09:41:48.210193Z"
    }
   },
   "outputs": [
    {
     "data": {
      "text/plain": [
       "<IBMQBackend('ibmqx2') from IBMQ(hub='ibm-q', group='open', project='main')>"
      ]
     },
     "execution_count": 15,
     "metadata": {},
     "output_type": "execute_result"
    }
   ],
   "source": [
    "from qiskit.providers.ibmq import least_busy\n",
    "\n",
    "small_devices = provider.backends(filters=lambda x: x.configuration().n_qubits == 5\n",
    "                                   and not x.configuration().simulator)\n",
    "least_busy(small_devices)"
   ]
  },
  {
   "cell_type": "markdown",
   "metadata": {},
   "source": [
    "The above filters can be combined as desired."
   ]
  },
  {
   "cell_type": "markdown",
   "metadata": {},
   "source": [
    "## Backends <a name='backends'></a>"
   ]
  },
  {
   "cell_type": "markdown",
   "metadata": {},
   "source": [
    "Backends represent either a simulator or a real quantum computer, and are responsible for running quantum circuits and/or pulse schedules and returning results. They have a `run` method which takes in a `qobj` as input, the Qiskit API serialization format, and returns a `BaseJob` object. This object allows asynchronous running of jobs for retrieving results from a backend when the job is completed.\n",
    "\n",
    "\n",
    "At a minimum, backends use the following methods, inherited from `BaseBackend`:\n",
    "\n",
    "- `provider()`: Returns the provider of the backend.\n",
    "- `name()`: Returns the name of the backend.\n",
    "- `status()`: Returns the current status of the backend.\n",
    "- `configuration()`: Returns the backend configuration.\n",
    "- `properties()`: Returns the backend properties.\n",
    "- `run(QOBJ, **kwargs)`: Runs a qobj on the backend.\n"
   ]
  },
  {
   "cell_type": "markdown",
   "metadata": {},
   "source": [
    "For remote backends they must support the additional\n",
    "\n",
    "- `jobs()`: Returns a list of previous jobs executed on this backend through the current provider instance.\n",
    "- `retrieve_job(JOB_ID)`:  Returns a job by a job_id.\n",
    "\n",
    "On a per device basis, the following commands may be supported:\n",
    "\n",
    "- `defaults()`: Gives a data structure of typical default parameters.\n",
    "- `schema()`: Fets a schema for the backend.\n",
    "\n",
    "There are some IBM Q backend only attributes:\n",
    "\n",
    "- `hub`: The IBMQ hub for this backend.\n",
    "- `group`:  The IBMQ group for this backend.\n",
    "- `project`: The IBMQ project for this backend.\n"
   ]
  },
  {
   "cell_type": "markdown",
   "metadata": {},
   "source": [
    "Lets load up the least busy backend from the `small_devices` filtered above:"
   ]
  },
  {
   "cell_type": "code",
   "execution_count": 17,
   "metadata": {
    "ExecuteTime": {
     "end_time": "2019-08-10T11:07:57.819917Z",
     "start_time": "2019-08-10T11:07:56.480877Z"
    }
   },
   "outputs": [],
   "source": [
    "backend = least_busy(small_devices)"
   ]
  },
  {
   "cell_type": "markdown",
   "metadata": {},
   "source": [
    "Several examples using commands are:"
   ]
  },
  {
   "cell_type": "code",
   "execution_count": 19,
   "metadata": {
    "ExecuteTime": {
     "end_time": "2019-08-10T11:08:14.218624Z",
     "start_time": "2019-08-10T11:08:14.214377Z"
    }
   },
   "outputs": [
    {
     "data": {
      "text/plain": [
       "<AccountProvider for IBMQ(hub='ibm-q', group='open', project='main')>"
      ]
     },
     "execution_count": 19,
     "metadata": {},
     "output_type": "execute_result"
    }
   ],
   "source": [
    "backend.provider()"
   ]
  },
  {
   "cell_type": "code",
   "execution_count": 20,
   "metadata": {
    "ExecuteTime": {
     "end_time": "2019-08-10T11:08:30.907490Z",
     "start_time": "2019-08-10T11:08:30.902985Z"
    }
   },
   "outputs": [
    {
     "data": {
      "text/plain": [
       "'ibmqx2'"
      ]
     },
     "execution_count": 20,
     "metadata": {},
     "output_type": "execute_result"
    }
   ],
   "source": [
    "backend.name()"
   ]
  },
  {
   "cell_type": "code",
   "execution_count": 22,
   "metadata": {
    "ExecuteTime": {
     "end_time": "2019-08-10T11:09:31.014122Z",
     "start_time": "2019-08-10T11:09:30.529121Z"
    }
   },
   "outputs": [
    {
     "data": {
      "text/plain": [
       "BackendStatus(backend_name='ibmqx2', backend_version='1.0.0', operational=True, pending_jobs=0, status_msg='active')"
      ]
     },
     "execution_count": 22,
     "metadata": {},
     "output_type": "execute_result"
    }
   ],
   "source": [
    "backend.status()"
   ]
  },
  {
   "cell_type": "markdown",
   "metadata": {},
   "source": [
    "Here we see the name of the backend, the software version it is running, along with its operational status, number of jobs pending in the backends queue, and a more detailed status message.\n",
    "\n",
    "Next we look at the backend configuration and properties:"
   ]
  },
  {
   "cell_type": "code",
   "execution_count": 24,
   "metadata": {
    "ExecuteTime": {
     "end_time": "2019-08-10T11:10:52.506038Z",
     "start_time": "2019-08-10T11:10:52.502010Z"
    },
    "scrolled": true
   },
   "outputs": [
    {
     "data": {
      "text/plain": [
       "QasmBackendConfiguration(allow_q_circuit=False, allow_q_object=True, backend_name='ibmqx2', backend_version='1.0.0', basis_gates=['u1', 'u2', 'u3', 'cx', 'id'], conditional=False, coupling_map=[[0, 1], [0, 2], [1, 2], [3, 2], [3, 4], [4, 2]], credits_required=True, description='5 qubit device', gates=[GateConfig(coupling_map=[[0], [1], [2], [3], [4]], name='id', parameters=[], qasm_def='gate id q { U(0,0,0) q; }'), GateConfig(coupling_map=[[0], [1], [2], [3], [4]], name='u1', parameters=['lambda'], qasm_def='gate u1(lambda) q { U(0,0,lambda) q; }'), GateConfig(coupling_map=[[0], [1], [2], [3], [4]], name='u2', parameters=['phi', 'lambda'], qasm_def='gate u2(phi,lambda) q { U(pi/2,phi,lambda) q; }'), GateConfig(coupling_map=[[0], [1], [2], [3], [4]], name='u3', parameters=['theta', 'phi', 'lambda'], qasm_def='u3(theta,phi,lambda) q { U(theta,phi,lambda) q; }'), GateConfig(coupling_map=[[0, 1], [0, 2], [1, 2], [3, 2], [3, 4], [4, 2]], name='cx', parameters=[], qasm_def='gate cx q1,q2 { CX q1,q2; }')], local=False, max_experiments=75, max_shots=8192, memory=True, n_qubits=5, n_registers=1, online_date=datetime.datetime(2018, 11, 6, 5, 0, tzinfo=tzutc()), open_pulse=False, sample_name='sparrow', simulator=False, url='None')"
      ]
     },
     "execution_count": 24,
     "metadata": {},
     "output_type": "execute_result"
    }
   ],
   "source": [
    "backend.configuration()"
   ]
  },
  {
   "cell_type": "code",
   "execution_count": 26,
   "metadata": {
    "ExecuteTime": {
     "end_time": "2019-08-10T11:11:08.272105Z",
     "start_time": "2019-08-10T11:11:08.267125Z"
    }
   },
   "outputs": [
    {
     "data": {
      "text/plain": [
       "BackendProperties(backend_name='ibmqx2', backend_version='1.0.0', gates=[Gate(gate='u1', parameters=[Nduv(date=datetime.datetime(2019, 8, 9, 11, 2, 1, tzinfo=tzutc()), name='gate_error', unit='', value=0.0)], qubits=[0]), Gate(gate='u2', parameters=[Nduv(date=datetime.datetime(2019, 8, 9, 11, 2, 1, tzinfo=tzutc()), name='gate_error', unit='', value=0.003435427487469278)], qubits=[0]), Gate(gate='u3', parameters=[Nduv(date=datetime.datetime(2019, 8, 9, 11, 2, 1, tzinfo=tzutc()), name='gate_error', unit='', value=0.006870854974938556)], qubits=[0]), Gate(gate='u1', parameters=[Nduv(date=datetime.datetime(2019, 8, 9, 11, 2, 1, tzinfo=tzutc()), name='gate_error', unit='', value=0.0)], qubits=[1]), Gate(gate='u2', parameters=[Nduv(date=datetime.datetime(2019, 8, 9, 11, 2, 1, tzinfo=tzutc()), name='gate_error', unit='', value=0.0017172252255832077)], qubits=[1]), Gate(gate='u3', parameters=[Nduv(date=datetime.datetime(2019, 8, 9, 11, 2, 1, tzinfo=tzutc()), name='gate_error', unit='', value=0.0034344504511664153)], qubits=[1]), Gate(gate='u1', parameters=[Nduv(date=datetime.datetime(2019, 8, 9, 11, 2, 1, tzinfo=tzutc()), name='gate_error', unit='', value=0.0)], qubits=[2]), Gate(gate='u2', parameters=[Nduv(date=datetime.datetime(2019, 8, 9, 11, 2, 1, tzinfo=tzutc()), name='gate_error', unit='', value=0.007046852551918559)], qubits=[2]), Gate(gate='u3', parameters=[Nduv(date=datetime.datetime(2019, 8, 9, 11, 2, 1, tzinfo=tzutc()), name='gate_error', unit='', value=0.014093705103837117)], qubits=[2]), Gate(gate='u1', parameters=[Nduv(date=datetime.datetime(2019, 8, 9, 11, 2, 1, tzinfo=tzutc()), name='gate_error', unit='', value=0.0)], qubits=[3]), Gate(gate='u2', parameters=[Nduv(date=datetime.datetime(2019, 8, 9, 11, 2, 1, tzinfo=tzutc()), name='gate_error', unit='', value=0.003951079359690579)], qubits=[3]), Gate(gate='u3', parameters=[Nduv(date=datetime.datetime(2019, 8, 9, 11, 2, 1, tzinfo=tzutc()), name='gate_error', unit='', value=0.007902158719381158)], qubits=[3]), Gate(gate='u1', parameters=[Nduv(date=datetime.datetime(2019, 8, 9, 11, 2, 1, tzinfo=tzutc()), name='gate_error', unit='', value=0.0)], qubits=[4]), Gate(gate='u2', parameters=[Nduv(date=datetime.datetime(2019, 8, 9, 11, 2, 1, tzinfo=tzutc()), name='gate_error', unit='', value=0.003435427487469278)], qubits=[4]), Gate(gate='u3', parameters=[Nduv(date=datetime.datetime(2019, 8, 9, 11, 2, 1, tzinfo=tzutc()), name='gate_error', unit='', value=0.006870854974938556)], qubits=[4]), Gate(gate='cx', name='CX0_1', parameters=[Nduv(date=datetime.datetime(2019, 8, 9, 10, 39, 9, tzinfo=tzutc()), name='gate_error', unit='', value=0.03917280320997596)], qubits=[0, 1]), Gate(gate='cx', name='CX0_2', parameters=[Nduv(date=datetime.datetime(2019, 8, 9, 10, 46, 39, tzinfo=tzutc()), name='gate_error', unit='', value=0.05644611177066436)], qubits=[0, 2]), Gate(gate='cx', name='CX1_2', parameters=[Nduv(date=datetime.datetime(2019, 8, 9, 10, 50, 44, tzinfo=tzutc()), name='gate_error', unit='', value=0.03477796774602346)], qubits=[1, 2]), Gate(gate='cx', name='CX3_2', parameters=[Nduv(date=datetime.datetime(2019, 8, 9, 10, 54, 56, tzinfo=tzutc()), name='gate_error', unit='', value=0.08353301884434579)], qubits=[3, 2]), Gate(gate='cx', name='CX3_4', parameters=[Nduv(date=datetime.datetime(2019, 8, 9, 10, 43, tzinfo=tzutc()), name='gate_error', unit='', value=0.06270062049475619)], qubits=[3, 4]), Gate(gate='cx', name='CX4_2', parameters=[Nduv(date=datetime.datetime(2019, 8, 9, 10, 59, 4, tzinfo=tzutc()), name='gate_error', unit='', value=0.04935537762216763)], qubits=[4, 2])], general=[], last_update_date=datetime.datetime(2019, 8, 9, 10, 59, 4, tzinfo=tzutc()), qubits=[[Nduv(date=datetime.datetime(2019, 8, 9, 10, 29, 43, tzinfo=tzutc()), name='T1', unit='µs', value=56.4110416361907), Nduv(date=datetime.datetime(2019, 8, 9, 10, 30, 36, tzinfo=tzutc()), name='T2', unit='µs', value=62.99936845033559), Nduv(date=datetime.datetime(2019, 8, 9, 10, 59, 4, tzinfo=tzutc()), name='frequency', unit='GHz', value=5.286315278724162), Nduv(date=datetime.datetime(2019, 8, 9, 10, 29, 26, tzinfo=tzutc()), name='readout_error', unit='', value=0.03249999999999997)], [Nduv(date=datetime.datetime(2019, 8, 9, 10, 29, 43, tzinfo=tzutc()), name='T1', unit='µs', value=52.879437110242684), Nduv(date=datetime.datetime(2019, 8, 9, 10, 31, 21, tzinfo=tzutc()), name='T2', unit='µs', value=51.05637997976738), Nduv(date=datetime.datetime(2019, 8, 9, 10, 59, 4, tzinfo=tzutc()), name='frequency', unit='GHz', value=5.237846466413305), Nduv(date=datetime.datetime(2019, 8, 9, 10, 29, 26, tzinfo=tzutc()), name='readout_error', unit='', value=0.024249999999999994)], [Nduv(date=datetime.datetime(2019, 8, 9, 10, 29, 43, tzinfo=tzutc()), name='T1', unit='µs', value=78.31391389468382), Nduv(date=datetime.datetime(2019, 8, 9, 10, 32, 9, tzinfo=tzutc()), name='T2', unit='µs', value=69.23864696986426), Nduv(date=datetime.datetime(2019, 8, 9, 10, 59, 4, tzinfo=tzutc()), name='frequency', unit='GHz', value=5.030274558531567), Nduv(date=datetime.datetime(2019, 8, 9, 10, 29, 26, tzinfo=tzutc()), name='readout_error', unit='', value=0.0129999999999999)], [Nduv(date=datetime.datetime(2019, 8, 9, 10, 29, 43, tzinfo=tzutc()), name='T1', unit='µs', value=62.089594656528504), Nduv(date=datetime.datetime(2019, 8, 9, 10, 31, 21, tzinfo=tzutc()), name='T2', unit='µs', value=36.027417423868826), Nduv(date=datetime.datetime(2019, 8, 9, 10, 59, 4, tzinfo=tzutc()), name='frequency', unit='GHz', value=5.296073502777328), Nduv(date=datetime.datetime(2019, 8, 9, 10, 29, 26, tzinfo=tzutc()), name='readout_error', unit='', value=0.05674999999999997)], [Nduv(date=datetime.datetime(2019, 8, 9, 10, 29, 43, tzinfo=tzutc()), name='T1', unit='µs', value=45.90384553782611), Nduv(date=datetime.datetime(2019, 8, 9, 10, 32, 56, tzinfo=tzutc()), name='T2', unit='µs', value=46.80272898067668), Nduv(date=datetime.datetime(2019, 8, 9, 10, 59, 4, tzinfo=tzutc()), name='frequency', unit='GHz', value=5.084654483091918), Nduv(date=datetime.datetime(2019, 8, 9, 10, 29, 26, tzinfo=tzutc()), name='readout_error', unit='', value=0.05400000000000005)]])"
      ]
     },
     "execution_count": 26,
     "metadata": {},
     "output_type": "execute_result"
    }
   ],
   "source": [
    "backend.properties()"
   ]
  },
  {
   "cell_type": "markdown",
   "metadata": {},
   "source": [
    "To see the last five jobs run on this backend:"
   ]
  },
  {
   "cell_type": "code",
   "execution_count": 27,
   "metadata": {
    "ExecuteTime": {
     "end_time": "2019-08-10T11:11:39.833317Z",
     "start_time": "2019-08-10T11:11:39.352617Z"
    }
   },
   "outputs": [
    {
     "name": "stdout",
     "output_type": "stream",
     "text": [
      "5d4d72e0ec92720012540e18 JobStatus.DONE\n",
      "5d4c719a8e1f090012e16518 JobStatus.DONE\n",
      "5d4c53f0ab6bdb001151e9e7 JobStatus.DONE\n",
      "5d49b87554c5a00011b7a8cf JobStatus.DONE\n",
      "5d46beb78158020011c9d44c JobStatus.DONE\n"
     ]
    }
   ],
   "source": [
    "for ran_job in backend.jobs(limit=5):\n",
    "    print(str(ran_job.job_id()) + \" \" + str(ran_job.status()))"
   ]
  },
  {
   "cell_type": "markdown",
   "metadata": {},
   "source": [
    "A `job` can be retrieved using `retrieve_job(JOB_ID)` method"
   ]
  },
  {
   "cell_type": "code",
   "execution_count": 28,
   "metadata": {
    "ExecuteTime": {
     "end_time": "2019-08-10T11:12:16.082047Z",
     "start_time": "2019-08-10T11:12:15.712249Z"
    }
   },
   "outputs": [],
   "source": [
    "job = backend.retrieve_job(ran_job.job_id())"
   ]
  },
  {
   "cell_type": "markdown",
   "metadata": {},
   "source": [
    "## Jobs <a name='jobs'></a>\n",
    "\n",
    "Job instances can be thought of as the “ticket” for a submitted job. They find out the execution state at a given point in time (for example, if the job is queued, running, or has failed), and also allow control over the job. They have the following methods:\n",
    "\n",
    "- `status()`: Returns the status of the job.\n",
    "- `backend()`: Returns the backend the job was run on.\n",
    "- `job_id()`: Gets the job_id.\n",
    "- `cancel()`: Cancels the job.\n",
    "- `result()`: Gets the results from the circuit run.\n",
    "\n",
    "IBM Q job only functions include:\n",
    "\n",
    "- `creation_date()`: Gives the date at which the job was created.\n",
    "- `queue_position()`: Returns the position of the job in the queue.\n",
    "- `error_message()`: The error message of failed jobs, if any.\n",
    "\n",
    "Let’s start with the `status()`. This returns the job status and a message"
   ]
  },
  {
   "cell_type": "markdown",
   "metadata": {},
   "source": [
    "Let's start with the `status()`. This returns the job status and a message"
   ]
  },
  {
   "cell_type": "code",
   "execution_count": 29,
   "metadata": {
    "ExecuteTime": {
     "end_time": "2019-08-10T11:14:57.844723Z",
     "start_time": "2019-08-10T11:14:57.840769Z"
    }
   },
   "outputs": [
    {
     "data": {
      "text/plain": [
       "<JobStatus.DONE: 'job has successfully run'>"
      ]
     },
     "execution_count": 29,
     "metadata": {},
     "output_type": "execute_result"
    }
   ],
   "source": [
    "job.status()"
   ]
  },
  {
   "cell_type": "markdown",
   "metadata": {},
   "source": [
    "To get a backend object from the job, use the `backend()` method"
   ]
  },
  {
   "cell_type": "code",
   "execution_count": 30,
   "metadata": {
    "ExecuteTime": {
     "end_time": "2019-08-10T11:15:02.835298Z",
     "start_time": "2019-08-10T11:15:02.831250Z"
    }
   },
   "outputs": [
    {
     "data": {
      "text/plain": [
       "<IBMQBackend('ibmqx2') from IBMQ(hub='ibm-q', group='open', project='main')>"
      ]
     },
     "execution_count": 30,
     "metadata": {},
     "output_type": "execute_result"
    }
   ],
   "source": [
    "backend_temp = job.backend()\n",
    "backend_temp"
   ]
  },
  {
   "cell_type": "markdown",
   "metadata": {},
   "source": [
    "To get the job_id use the `job_id()` method"
   ]
  },
  {
   "cell_type": "code",
   "execution_count": 31,
   "metadata": {
    "ExecuteTime": {
     "end_time": "2019-08-10T11:15:13.419833Z",
     "start_time": "2019-08-10T11:15:13.415394Z"
    }
   },
   "outputs": [
    {
     "data": {
      "text/plain": [
       "'5d46beb78158020011c9d44c'"
      ]
     },
     "execution_count": 31,
     "metadata": {},
     "output_type": "execute_result"
    }
   ],
   "source": [
    "job.job_id()"
   ]
  },
  {
   "cell_type": "markdown",
   "metadata": {},
   "source": [
    "To get the result from the job, use the `result()` method"
   ]
  },
  {
   "cell_type": "code",
   "execution_count": 32,
   "metadata": {
    "ExecuteTime": {
     "end_time": "2019-08-10T11:15:21.634977Z",
     "start_time": "2019-08-10T11:15:21.326797Z"
    }
   },
   "outputs": [
    {
     "name": "stdout",
     "output_type": "stream",
     "text": [
      "{'1001': 43, '1111': 60, '1000': 78, '0011': 58, '0110': 59, '0101': 68, '1100': 101, '0000': 48, '0001': 45, '0100': 76, '1101': 67, '0111': 48, '1110': 98, '1011': 57, '1010': 67, '0010': 51}\n"
     ]
    }
   ],
   "source": [
    "result = job.result()\n",
    "counts = result.get_counts()\n",
    "print(counts)"
   ]
  },
  {
   "cell_type": "markdown",
   "metadata": {},
   "source": [
    "If you want to check the creation date, use `creation_date()`"
   ]
  },
  {
   "cell_type": "code",
   "execution_count": 33,
   "metadata": {
    "ExecuteTime": {
     "end_time": "2019-08-10T11:15:27.404142Z",
     "start_time": "2019-08-10T11:15:27.400446Z"
    }
   },
   "outputs": [
    {
     "data": {
      "text/plain": [
       "'2019-08-04T11:17:11.293Z'"
      ]
     },
     "execution_count": 33,
     "metadata": {},
     "output_type": "execute_result"
    }
   ],
   "source": [
    "job.creation_date()"
   ]
  },
  {
   "cell_type": "markdown",
   "metadata": {},
   "source": [
    "Let's make an active example"
   ]
  },
  {
   "cell_type": "code",
   "execution_count": 34,
   "metadata": {
    "ExecuteTime": {
     "end_time": "2019-08-10T11:15:39.196145Z",
     "start_time": "2019-08-10T11:15:39.192833Z"
    }
   },
   "outputs": [],
   "source": [
    "from qiskit import *\n",
    "from qiskit.compiler import transpile, assemble"
   ]
  },
  {
   "cell_type": "code",
   "execution_count": 35,
   "metadata": {
    "ExecuteTime": {
     "end_time": "2019-08-10T11:15:39.490894Z",
     "start_time": "2019-08-10T11:15:39.484033Z"
    }
   },
   "outputs": [
    {
     "data": {
      "text/plain": [
       "<qiskit.circuit.instructionset.InstructionSet at 0x1a2169a748>"
      ]
     },
     "execution_count": 35,
     "metadata": {},
     "output_type": "execute_result"
    }
   ],
   "source": [
    "qr = QuantumRegister(3)\n",
    "cr = ClassicalRegister(3)\n",
    "circuit = QuantumCircuit(qr, cr)\n",
    "circuit.x(qr[0])\n",
    "circuit.x(qr[1])\n",
    "circuit.ccx(qr[0], qr[1], qr[2])\n",
    "circuit.cx(qr[0], qr[1])\n",
    "circuit.measure(qr, cr)"
   ]
  },
  {
   "cell_type": "markdown",
   "metadata": {},
   "source": [
    "To pass this circuit to the backend, we must first map it onto the backend, package it, and send to the device.  This is all done for you by the `execute` function:"
   ]
  },
  {
   "cell_type": "code",
   "execution_count": 36,
   "metadata": {
    "ExecuteTime": {
     "end_time": "2019-08-10T11:17:47.611651Z",
     "start_time": "2019-08-10T11:17:47.546750Z"
    }
   },
   "outputs": [],
   "source": [
    "job = execute(circuit, backend)"
   ]
  },
  {
   "cell_type": "markdown",
   "metadata": {},
   "source": [
    "Alternatively, you can map the circuit yourself using the `transpile` function, package it using `assemble`, and then send it from the `backend` instance itself:"
   ]
  },
  {
   "cell_type": "code",
   "execution_count": 37,
   "metadata": {
    "ExecuteTime": {
     "end_time": "2019-08-10T11:18:59.534966Z",
     "start_time": "2019-08-10T11:18:59.489290Z"
    }
   },
   "outputs": [],
   "source": [
    "mapped_circuit = transpile(circuit, backend=backend)\n",
    "qobj = assemble(mapped_circuit, backend=backend, shots=1024)\n",
    "job = backend.run(qobj)"
   ]
  },
  {
   "cell_type": "markdown",
   "metadata": {},
   "source": [
    "This second method is discussed in more detail in [Part 5: Using the Transpiler](5_using_the_transpiler.ipynb)."
   ]
  },
  {
   "cell_type": "markdown",
   "metadata": {},
   "source": [
    "## Updating from previous versions\n",
    "\n",
    "Since `Qiskit` version `0.11`, the IBM Q account defaults to using the new [IBM Q Experience](https://quantum-computing.ibm.com), which supersedes the legacy Quantum Experience and Q-console.\n",
    "\n",
    "If you have credentials for the legacy Quantum Experience or Q-console stored in disk, you can make use of the `IBMQ.update_account()` helper function that converts legacy credentials to the new APIv2 format:"
   ]
  },
  {
   "cell_type": "code",
   "execution_count": 1,
   "metadata": {},
   "outputs": [],
   "source": [
    "# IBMQ.update_account()"
   ]
  },
  {
   "cell_type": "markdown",
   "metadata": {},
   "source": [
    "You can find more information on how to update your programs in the [README.md](https://github.com/Qiskit/qiskit-ibmq-provider/blob/master/README.md#updating-to-the-new-ibm-q-experience) file in the provider repository."
   ]
  },
  {
   "cell_type": "code",
   "execution_count": 3,
   "metadata": {
    "ExecuteTime": {
     "end_time": "2019-08-10T11:28:28.529479Z",
     "start_time": "2019-08-10T11:28:28.521774Z"
    }
   },
   "outputs": [
    {
     "data": {
      "text/html": [
       "<h3>Version Information</h3><table><tr><th>Qiskit Software</th><th>Version</th></tr><tr><td>Qiskit</td><td>None</td></tr><tr><td>Terra</td><td>0.9.0</td></tr><tr><td>Aer</td><td>0.3.0</td></tr><tr><td>Ignis</td><td>0.2.0</td></tr><tr><td>Aqua</td><td>0.5.6</td></tr><tr><td>IBM Q Provider</td><td>0.3.1</td></tr><tr><th>System information</th></tr><tr><td>Python</td><td>3.7.3 (default, Mar 27 2019, 16:54:48) \n",
       "[Clang 4.0.1 (tags/RELEASE_401/final)]</td></tr><tr><td>OS</td><td>Darwin</td></tr><tr><td>CPUs</td><td>4</td></tr><tr><td>Memory (Gb)</td><td>16.0</td></tr><tr><td colspan='2'>Sat Aug 10 07:28:28 2019 EDT</td></tr></table>"
      ],
      "text/plain": [
       "<IPython.core.display.HTML object>"
      ]
     },
     "metadata": {},
     "output_type": "display_data"
    },
    {
     "data": {
      "text/html": [
       "<div style='width: 100%; background-color:#d5d9e0;padding-left: 10px; padding-bottom: 10px; padding-right: 10px; padding-top: 5px'><h3>This code is a part of Qiskit</h3><p>&copy; Copyright IBM 2017, 2019.</p><p>This code is licensed under the Apache License, Version 2.0. You may<br>obtain a copy of this license in the LICENSE.txt file in the root directory<br> of this source tree or at http://www.apache.org/licenses/LICENSE-2.0.<p>Any modifications or derivative works of this code must retain this<br>copyright notice, and modified files need to carry a notice indicating<br>that they have been altered from the originals.</p></div>"
      ],
      "text/plain": [
       "<IPython.core.display.HTML object>"
      ]
     },
     "metadata": {},
     "output_type": "display_data"
    }
   ],
   "source": [
    "import qiskit.tools.jupyter\n",
    "%qiskit_version_table\n",
    "%qiskit_copyright"
   ]
  },
  {
   "cell_type": "code",
   "execution_count": null,
   "metadata": {},
   "outputs": [],
   "source": []
  }
 ],
 "metadata": {
  "anaconda-cloud": {},
  "kernelspec": {
   "display_name": "Python 3",
   "language": "python",
   "name": "python3"
  },
  "language_info": {
   "codemirror_mode": {
    "name": "ipython",
    "version": 3
   },
   "file_extension": ".py",
   "mimetype": "text/x-python",
   "name": "python",
   "nbconvert_exporter": "python",
   "pygments_lexer": "ipython3",
   "version": "3.7.3"
  },
  "varInspector": {
   "cols": {
    "lenName": 16,
    "lenType": 16,
    "lenVar": 40
   },
   "kernels_config": {
    "python": {
     "delete_cmd_postfix": "",
     "delete_cmd_prefix": "del ",
     "library": "var_list.py",
     "varRefreshCmd": "print(var_dic_list())"
    },
    "r": {
     "delete_cmd_postfix": ") ",
     "delete_cmd_prefix": "rm(",
     "library": "var_list.r",
     "varRefreshCmd": "cat(var_dic_list()) "
    }
   },
   "types_to_exclude": [
    "module",
    "function",
    "builtin_function_or_method",
    "instance",
    "_Feature"
   ],
   "window_display": false
  }
 },
 "nbformat": 4,
 "nbformat_minor": 2
}
